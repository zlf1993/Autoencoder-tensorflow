{
 "cells": [
  {
   "cell_type": "code",
   "execution_count": 69,
   "metadata": {},
   "outputs": [
    {
     "name": "stdout",
     "output_type": "stream",
     "text": [
      "Extracting /tmp/data/train-images-idx3-ubyte.gz\n",
      "Extracting /tmp/data/train-labels-idx1-ubyte.gz\n",
      "Extracting /tmp/data/t10k-images-idx3-ubyte.gz\n",
      "Extracting /tmp/data/t10k-labels-idx1-ubyte.gz\n"
     ]
    }
   ],
   "source": [
    "import tensorflow as tf\n",
    "import numpy as np\n",
    "from matplotlib import pyplot as plt\n",
    "import struct\n",
    "import os\n",
    "from tqdm import tqdm\n",
    "from tqdm import trange\n",
    "from tensorflow.python.client import device_lib\n",
    "\n",
    "# Import MNIST data\n",
    "from tensorflow.examples.tutorials.mnist import input_data\n",
    "mnist = input_data.read_data_sets(\"/tmp/data/\", one_hot=True)\n",
    "\n",
    "# Training Parameters\n",
    "learning_rate = 0.01\n",
    "train_epochs = 40\n",
    "batch_size = 5000\n",
    "\n",
    "# Network Parameters\n",
    "num_hidden_1 = 256 # 1st layer num features\n",
    "num_hidden_2 = 128 # 2nd layer num features\n",
    "num_hidden_3 = 64 # 3rd layer num features\n",
    "num_input = 784 # MNIST data input (img shape: 28*28)\n",
    "\n",
    "# tf Graph input (only pictures)\n",
    "X = tf.placeholder(\"float\", [None, num_input])\n",
    "weights = {\n",
    "    'encoder_h1': tf.Variable(tf.random_normal([num_input, num_hidden_1])),\n",
    "    'encoder_h2': tf.Variable(tf.random_normal([num_hidden_1, num_hidden_2])),\n",
    "    'encoder_h3': tf.Variable(tf.random_normal([num_hidden_2, num_hidden_3])),\n",
    "    'decoder_h1': tf.Variable(tf.random_normal([num_hidden_3, num_hidden_2])),\n",
    "    'decoder_h2': tf.Variable(tf.random_normal([num_hidden_2, num_hidden_1])),\n",
    "    'decoder_h3': tf.Variable(tf.random_normal([num_hidden_1, num_input])),\n",
    "}\n",
    "biases = {\n",
    "    'encoder_b1': tf.Variable(tf.random_normal([num_hidden_1])),\n",
    "    'encoder_b2': tf.Variable(tf.random_normal([num_hidden_2])),\n",
    "    'encoder_b3': tf.Variable(tf.random_normal([num_hidden_3])),\n",
    "    'decoder_b1': tf.Variable(tf.random_normal([num_hidden_2])),\n",
    "    'decoder_b2': tf.Variable(tf.random_normal([num_hidden_1])),\n",
    "    'decoder_b3': tf.Variable(tf.random_normal([num_input])),\n",
    "}"
   ]
  },
  {
   "cell_type": "code",
   "execution_count": 70,
   "metadata": {},
   "outputs": [],
   "source": [
    "def load_mnist_train(path, kind='train'): \n",
    "    labels_path = os.path.join(path, '%s-labels.idx1-ubyte' % kind)\n",
    "    images_path = os.path.join(path, '%s-images.idx3-ubyte' % kind)\n",
    "    with open(labels_path, 'rb') as lbpath:\n",
    "        magic, n = struct.unpack('>II', lbpath.read(8))\n",
    "        labels = np.fromfile(lbpath,dtype=np.uint8)\n",
    "    with open(images_path, 'rb') as imgpath: \n",
    "        magic, num, rows, cols = struct.unpack('>IIII',imgpath.read(16)) \n",
    "        images = np.fromfile(imgpath,dtype=np.uint8).reshape(len(labels), 784)\n",
    "    \n",
    "    return images, labels"
   ]
  },
  {
   "cell_type": "code",
   "execution_count": 71,
   "metadata": {},
   "outputs": [],
   "source": [
    "def load_mnist_test(path, kind='t10k'): \n",
    "    labels_path = os.path.join(path,'%s-labels.idx1-ubyte'% kind) \n",
    "    images_path = os.path.join(path,'%s-images.idx3-ubyte'% kind) \n",
    "    with open(labels_path, 'rb') as lbpath: \n",
    "        magic, n = struct.unpack('>II',lbpath.read(8)) \n",
    "        labels = np.fromfile(lbpath,dtype=np.uint8) \n",
    "    with open(images_path, 'rb') as imgpath: \n",
    "        magic, num, rows, cols = struct.unpack('>IIII',imgpath.read(16)) \n",
    "        images = np.fromfile(imgpath,dtype=np.uint8).reshape(len(labels), 784)\n",
    "    \n",
    "    return images, labels"
   ]
  },
  {
   "cell_type": "code",
   "execution_count": 72,
   "metadata": {},
   "outputs": [
    {
     "name": "stdout",
     "output_type": "stream",
     "text": [
      "60000\n"
     ]
    }
   ],
   "source": [
    "path = os.getcwd()\n",
    "train_images, train_labels = load_mnist_train(path)\n",
    "test_images, test_labels = load_mnist_test(path)\n",
    "print(len(train_images))"
   ]
  },
  {
   "cell_type": "code",
   "execution_count": 73,
   "metadata": {},
   "outputs": [],
   "source": [
    "# Building the encoder\n",
    "def encoder(x):\n",
    "    # Encoder Hidden layer with sigmoid activation #1\n",
    "    layer_1 = tf.nn.sigmoid(tf.add(tf.matmul(x, weights['encoder_h1']),\n",
    "                                   biases['encoder_b1']))\n",
    "    # Encoder Hidden layer with sigmoid activation #2\n",
    "    layer_2 = tf.nn.sigmoid(tf.add(tf.matmul(layer_1, weights['encoder_h2']),\n",
    "                                   biases['encoder_b2']))\n",
    "    layer_3 = tf.nn.sigmoid(tf.add(tf.matmul(layer_2, weights['encoder_h3']),\n",
    "                                   biases['encoder_b3']), name = 'feature')\n",
    "    return layer_3\n"
   ]
  },
  {
   "cell_type": "code",
   "execution_count": 74,
   "metadata": {},
   "outputs": [],
   "source": [
    "# Building the decoder\n",
    "def decoder(x):\n",
    "    # Decoder Hidden layer with sigmoid activation #1\n",
    "    layer_1 = tf.nn.sigmoid(tf.add(tf.matmul(x, weights['decoder_h1']),\n",
    "                                   biases['decoder_b1']))\n",
    "    # Decoder Hidden layer with sigmoid activation #2\n",
    "    layer_2 = tf.nn.sigmoid(tf.add(tf.matmul(layer_1, weights['decoder_h2']),\n",
    "                                   biases['decoder_b2']))\n",
    "    # Decoder Hidden layer with sigmoid activation #3\n",
    "    layer_3 = tf.add(tf.matmul(layer_2, weights['decoder_h3']),\n",
    "                                biases['decoder_b3'])\n",
    "    return layer_3"
   ]
  },
  {
   "cell_type": "code",
   "execution_count": 75,
   "metadata": {},
   "outputs": [],
   "source": [
    "def check_available_gpus():\n",
    "    local_devices = device_lib.list_local_devices()\n",
    "    gpu_names = [x.name for x in device_lib.list_local_devices() if x.device_type == 'GPU']\n",
    "    gpu_num = len(gpu_names)\n",
    "    print('{0} GPUs are detected : {1}'.format(gpu_num, gpu_names))\n",
    "    return gpu_num"
   ]
  },
  {
   "cell_type": "code",
   "execution_count": 76,
   "metadata": {},
   "outputs": [
    {
     "name": "stdout",
     "output_type": "stream",
     "text": [
      "1 GPUs are detected : ['/device:GPU:0']\n"
     ]
    }
   ],
   "source": [
    "# Construct model\n",
    "encoder_op = encoder(X)\n",
    "decoder_op = decoder(encoder_op)\n",
    "\n",
    "# Prediction\n",
    "y_pred = decoder_op\n",
    "# Targets (Labels) are the input data.\n",
    "y_true = X\n",
    "#Define loss and optimizer, minimize the squared error\n",
    "loss = tf.reduce_mean(tf.pow(y_true- y_pred,2),name = 'loss')\n",
    "#loss = tf.reduce_mean(tf.nn.sigmoid_cross_entropy_with_logits(labels=y_true, logits=y_pred))\n",
    "optimizer = tf.train.AdamOptimizer(learning_rate).minimize(loss)\n",
    "saver = tf.train.Saver()\n",
    "check_available_gpus()\n",
    "sess = tf.Session(config=tf.ConfigProto(log_device_placement=True))"
   ]
  },
  {
   "cell_type": "code",
   "execution_count": 85,
   "metadata": {},
   "outputs": [
    {
     "name": "stdout",
     "output_type": "stream",
     "text": [
      "INFO:tensorflow:Restoring parameters from tmpnn/model.ckpt\n"
     ]
    },
    {
     "name": "stderr",
     "output_type": "stream",
     "text": [
      " 58%|█████▊    | 7/12 [00:00<00:02,  2.04it/s]"
     ]
    },
    {
     "name": "stdout",
     "output_type": "stream",
     "text": [
      "Global Step=0, Local batch=0, lose=1561.1697\n",
      "Global Step=0, Local batch=1, lose=1577.2706\n",
      "Global Step=0, Local batch=2, lose=1595.1002\n",
      "Global Step=0, Local batch=3, lose=1599.4235\n",
      "Global Step=0, Local batch=4, lose=1599.3242\n",
      "Global Step=0, Local batch=5, lose=1586.1747\n",
      "Global Step=0, Local batch=6, lose=1584.2407\n",
      "Global Step=0, Local batch=7, lose=1607.0745\n",
      "Global Step=0, Local batch=8, lose=1599.3485\n",
      "Global Step=0, Local batch=9, lose=1646.8267\n",
      "Global Step=0, Local batch=10, lose=1577.0552\n"
     ]
    },
    {
     "name": "stderr",
     "output_type": "stream",
     "text": [
      "100%|██████████| 12/12 [00:00<00:00, 13.26it/s]\n",
      " 42%|████▏     | 5/12 [00:00<00:00, 48.85it/s]"
     ]
    },
    {
     "name": "stdout",
     "output_type": "stream",
     "text": [
      "Global Step=0, Local batch=11, lose=1568.2500\n",
      "Global Step=1, Local batch=0, lose=1565.9595\n",
      "Global Step=1, Local batch=1, lose=1575.0962\n",
      "Global Step=1, Local batch=2, lose=1589.0576\n",
      "Global Step=1, Local batch=3, lose=1593.3573\n",
      "Global Step=1, Local batch=4, lose=1591.2516\n",
      "Global Step=1, Local batch=5, lose=1581.7976\n",
      "Global Step=1, Local batch=6, lose=1582.3297\n",
      "Global Step=1, Local batch=7, lose=1596.2161\n",
      "Global Step=1, Local batch=8, lose=1588.5531\n",
      "Global Step=1, Local batch=9, lose=1639.3798\n"
     ]
    },
    {
     "name": "stderr",
     "output_type": "stream",
     "text": [
      "100%|██████████| 12/12 [00:00<00:00, 50.95it/s]\n",
      "  0%|          | 0/12 [00:00<?, ?it/s]"
     ]
    },
    {
     "name": "stdout",
     "output_type": "stream",
     "text": [
      "Global Step=1, Local batch=10, lose=1572.5474\n",
      "Global Step=1, Local batch=11, lose=1561.8735\n"
     ]
    },
    {
     "name": "stderr",
     "output_type": "stream",
     "text": [
      " 58%|█████▊    | 7/12 [00:00<00:01,  2.69it/s]"
     ]
    },
    {
     "name": "stdout",
     "output_type": "stream",
     "text": [
      "Global Step=2, Local batch=0, lose=1556.1335\n",
      "Global Step=2, Local batch=1, lose=1569.5959\n",
      "Global Step=2, Local batch=2, lose=1597.4474\n",
      "Global Step=2, Local batch=3, lose=1609.9744\n",
      "Global Step=2, Local batch=4, lose=1614.0360\n",
      "Global Step=2, Local batch=5, lose=1597.6951\n",
      "Global Step=2, Local batch=6, lose=1581.3054\n",
      "Global Step=2, Local batch=7, lose=1603.8787\n",
      "Global Step=2, Local batch=8, lose=1611.4387\n",
      "Global Step=2, Local batch=9, lose=1651.7721\n",
      "Global Step=2, Local batch=10, lose=1578.5343\n"
     ]
    },
    {
     "name": "stderr",
     "output_type": "stream",
     "text": [
      "100%|██████████| 12/12 [00:00<00:00, 16.42it/s]\n",
      " 50%|█████     | 6/12 [00:00<00:00, 51.68it/s]"
     ]
    },
    {
     "name": "stdout",
     "output_type": "stream",
     "text": [
      "Global Step=2, Local batch=11, lose=1568.7048\n",
      "Global Step=3, Local batch=0, lose=1566.0249\n",
      "Global Step=3, Local batch=1, lose=1579.8502\n",
      "Global Step=3, Local batch=2, lose=1592.3396\n",
      "Global Step=3, Local batch=3, lose=1588.6270\n",
      "Global Step=3, Local batch=4, lose=1584.5946\n",
      "Global Step=3, Local batch=5, lose=1576.9318\n",
      "Global Step=3, Local batch=6, lose=1581.5474\n",
      "Global Step=3, Local batch=7, lose=1601.9084\n",
      "Global Step=3, Local batch=8, lose=1594.4169\n",
      "Global Step=3, Local batch=9, lose=1629.3945\n"
     ]
    },
    {
     "name": "stderr",
     "output_type": "stream",
     "text": [
      "100%|██████████| 12/12 [00:00<00:00, 52.42it/s]\n",
      " 50%|█████     | 6/12 [00:00<00:00, 54.32it/s]"
     ]
    },
    {
     "name": "stdout",
     "output_type": "stream",
     "text": [
      "Global Step=3, Local batch=10, lose=1562.4877\n",
      "Global Step=3, Local batch=11, lose=1569.5295\n",
      "Global Step=4, Local batch=0, lose=1566.7478\n",
      "Global Step=4, Local batch=1, lose=1565.0525\n",
      "Global Step=4, Local batch=2, lose=1585.5143\n",
      "Global Step=4, Local batch=3, lose=1591.2863\n",
      "Global Step=4, Local batch=4, lose=1583.7948\n",
      "Global Step=4, Local batch=5, lose=1573.5762\n",
      "Global Step=4, Local batch=6, lose=1582.9430\n",
      "Global Step=4, Local batch=7, lose=1596.6860\n",
      "Global Step=4, Local batch=8, lose=1584.0126\n"
     ]
    },
    {
     "name": "stderr",
     "output_type": "stream",
     "text": [
      "100%|██████████| 12/12 [00:00<00:00, 53.43it/s]\n",
      "  0%|          | 0/12 [00:00<?, ?it/s]"
     ]
    },
    {
     "name": "stdout",
     "output_type": "stream",
     "text": [
      "Global Step=4, Local batch=9, lose=1627.2854\n",
      "Global Step=4, Local batch=10, lose=1565.5662\n",
      "Global Step=4, Local batch=11, lose=1561.2318\n"
     ]
    },
    {
     "name": "stderr",
     "output_type": "stream",
     "text": [
      " 58%|█████▊    | 7/12 [00:00<00:01,  2.67it/s]"
     ]
    },
    {
     "name": "stdout",
     "output_type": "stream",
     "text": [
      "Global Step=5, Local batch=0, lose=1552.9109\n",
      "Global Step=5, Local batch=1, lose=1563.7009\n",
      "Global Step=5, Local batch=2, lose=1584.3252\n",
      "Global Step=5, Local batch=3, lose=1581.3856\n",
      "Global Step=5, Local batch=4, lose=1586.0580\n",
      "Global Step=5, Local batch=5, lose=1572.0127\n",
      "Global Step=5, Local batch=6, lose=1572.5565\n",
      "Global Step=5, Local batch=7, lose=1590.7706\n",
      "Global Step=5, Local batch=8, lose=1584.1423\n",
      "Global Step=5, Local batch=9, lose=1621.3958\n",
      "Global Step=5, Local batch=10, lose=1557.0856\n",
      "Global Step=5, Local batch=11, lose=1557.6346\n"
     ]
    },
    {
     "name": "stderr",
     "output_type": "stream",
     "text": [
      "100%|██████████| 12/12 [00:00<00:00, 16.45it/s]\n",
      "100%|██████████| 12/12 [00:00<00:00, 17.47it/s]\n",
      "  0%|          | 0/12 [00:00<?, ?it/s]"
     ]
    },
    {
     "name": "stdout",
     "output_type": "stream",
     "text": [
      "Global Step=6, Local batch=0, lose=1547.3334\n",
      "Global Step=6, Local batch=1, lose=1556.6763\n",
      "Global Step=6, Local batch=2, lose=1583.4709\n",
      "Global Step=6, Local batch=3, lose=1580.8411\n",
      "Global Step=6, Local batch=4, lose=1587.1033\n",
      "Global Step=6, Local batch=5, lose=1576.6080\n",
      "Global Step=6, Local batch=6, lose=1569.9180\n",
      "Global Step=6, Local batch=7, lose=1592.1777\n",
      "Global Step=6, Local batch=8, lose=1587.1979\n",
      "Global Step=6, Local batch=9, lose=1624.0536\n",
      "Global Step=6, Local batch=10, lose=1558.4974\n",
      "Global Step=6, Local batch=11, lose=1554.3289\n"
     ]
    },
    {
     "name": "stderr",
     "output_type": "stream",
     "text": [
      " 58%|█████▊    | 7/12 [00:00<00:01,  3.11it/s]"
     ]
    },
    {
     "name": "stdout",
     "output_type": "stream",
     "text": [
      "Global Step=7, Local batch=0, lose=1547.1809\n",
      "Global Step=7, Local batch=1, lose=1557.6874\n",
      "Global Step=7, Local batch=2, lose=1578.4189\n",
      "Global Step=7, Local batch=3, lose=1582.3431\n",
      "Global Step=7, Local batch=4, lose=1595.8221\n",
      "Global Step=7, Local batch=5, lose=1581.7129\n",
      "Global Step=7, Local batch=6, lose=1571.7019\n",
      "Global Step=7, Local batch=7, lose=1588.2107\n",
      "Global Step=7, Local batch=8, lose=1581.3351\n",
      "Global Step=7, Local batch=9, lose=1629.7917\n",
      "Global Step=7, Local batch=10, lose=1560.8132\n"
     ]
    },
    {
     "name": "stderr",
     "output_type": "stream",
     "text": [
      "100%|██████████| 12/12 [00:01<00:00,  3.86it/s]\n",
      "  0%|          | 0/12 [00:00<?, ?it/s]"
     ]
    },
    {
     "name": "stdout",
     "output_type": "stream",
     "text": [
      "Global Step=7, Local batch=11, lose=1546.2124\n"
     ]
    },
    {
     "name": "stderr",
     "output_type": "stream",
     "text": [
      " 58%|█████▊    | 7/12 [00:00<00:01,  2.84it/s]"
     ]
    },
    {
     "name": "stdout",
     "output_type": "stream",
     "text": [
      "Global Step=8, Local batch=0, lose=1545.8677\n",
      "Global Step=8, Local batch=1, lose=1557.1071\n",
      "Global Step=8, Local batch=2, lose=1574.2750\n",
      "Global Step=8, Local batch=3, lose=1582.0631\n",
      "Global Step=8, Local batch=4, lose=1579.4784\n",
      "Global Step=8, Local batch=5, lose=1559.4464\n",
      "Global Step=8, Local batch=6, lose=1567.6324\n",
      "Global Step=8, Local batch=7, lose=1588.4811\n",
      "Global Step=8, Local batch=8, lose=1579.5543\n",
      "Global Step=8, Local batch=9, lose=1620.2733\n",
      "Global Step=8, Local batch=10, lose=1547.7295\n"
     ]
    },
    {
     "name": "stderr",
     "output_type": "stream",
     "text": [
      "100%|██████████| 12/12 [00:00<00:00, 16.86it/s]\n",
      " 50%|█████     | 6/12 [00:00<00:00, 53.32it/s]"
     ]
    },
    {
     "name": "stdout",
     "output_type": "stream",
     "text": [
      "Global Step=8, Local batch=11, lose=1551.0001\n",
      "Global Step=9, Local batch=0, lose=1550.3799\n",
      "Global Step=9, Local batch=1, lose=1553.7146\n",
      "Global Step=9, Local batch=2, lose=1573.8099\n",
      "Global Step=9, Local batch=3, lose=1576.4531\n",
      "Global Step=9, Local batch=4, lose=1575.9485\n",
      "Global Step=9, Local batch=5, lose=1564.3933\n",
      "Global Step=9, Local batch=6, lose=1567.2472\n",
      "Global Step=9, Local batch=7, lose=1576.0881\n",
      "Global Step=9, Local batch=8, lose=1574.7863\n",
      "Global Step=9, Local batch=9, lose=1623.0554\n"
     ]
    },
    {
     "name": "stderr",
     "output_type": "stream",
     "text": [
      "100%|██████████| 12/12 [00:00<00:00, 53.13it/s]\n",
      "  0%|          | 0/12 [00:00<?, ?it/s]"
     ]
    },
    {
     "name": "stdout",
     "output_type": "stream",
     "text": [
      "Global Step=9, Local batch=10, lose=1555.1598\n",
      "Global Step=9, Local batch=11, lose=1547.9463\n"
     ]
    },
    {
     "name": "stderr",
     "output_type": "stream",
     "text": [
      " 58%|█████▊    | 7/12 [00:00<00:01,  2.87it/s]"
     ]
    },
    {
     "name": "stdout",
     "output_type": "stream",
     "text": [
      "Global Step=10, Local batch=0, lose=1542.1425\n",
      "Global Step=10, Local batch=1, lose=1549.7101\n",
      "Global Step=10, Local batch=2, lose=1573.1295\n",
      "Global Step=10, Local batch=3, lose=1568.3660\n",
      "Global Step=10, Local batch=4, lose=1564.2086\n",
      "Global Step=10, Local batch=5, lose=1555.8855\n",
      "Global Step=10, Local batch=6, lose=1557.3175\n",
      "Global Step=10, Local batch=7, lose=1575.1409\n",
      "Global Step=10, Local batch=8, lose=1569.6088\n",
      "Global Step=10, Local batch=9, lose=1607.0586\n"
     ]
    },
    {
     "name": "stderr",
     "output_type": "stream",
     "text": [
      "\r",
      " 92%|█████████▏| 11/12 [00:01<00:00,  3.50it/s]"
     ]
    },
    {
     "name": "stdout",
     "output_type": "stream",
     "text": [
      "Global Step=10, Local batch=10, lose=1541.8688\n"
     ]
    },
    {
     "name": "stderr",
     "output_type": "stream",
     "text": [
      "100%|██████████| 12/12 [00:01<00:00,  7.30it/s]\n",
      "  0%|          | 0/12 [00:00<?, ?it/s]"
     ]
    },
    {
     "name": "stdout",
     "output_type": "stream",
     "text": [
      "Global Step=10, Local batch=11, lose=1539.3445\n"
     ]
    },
    {
     "name": "stderr",
     "output_type": "stream",
     "text": [
      " 58%|█████▊    | 7/12 [00:00<00:01,  3.02it/s]"
     ]
    },
    {
     "name": "stdout",
     "output_type": "stream",
     "text": [
      "Global Step=11, Local batch=0, lose=1531.8676\n",
      "Global Step=11, Local batch=1, lose=1543.6656\n",
      "Global Step=11, Local batch=2, lose=1562.7993\n",
      "Global Step=11, Local batch=3, lose=1564.7222\n",
      "Global Step=11, Local batch=4, lose=1571.2336\n",
      "Global Step=11, Local batch=5, lose=1559.3508\n",
      "Global Step=11, Local batch=6, lose=1564.3550\n",
      "Global Step=11, Local batch=7, lose=1579.3695\n",
      "Global Step=11, Local batch=8, lose=1565.1689\n",
      "Global Step=11, Local batch=9, lose=1611.1024\n",
      "Global Step=11, Local batch=10, lose=1547.6012\n"
     ]
    },
    {
     "name": "stderr",
     "output_type": "stream",
     "text": [
      "100%|██████████| 12/12 [00:00<00:00, 17.63it/s]\n",
      " 50%|█████     | 6/12 [00:00<00:00, 52.08it/s]"
     ]
    },
    {
     "name": "stdout",
     "output_type": "stream",
     "text": [
      "Global Step=11, Local batch=11, lose=1541.2321\n",
      "Global Step=12, Local batch=0, lose=1533.0176\n",
      "Global Step=12, Local batch=1, lose=1540.0408\n",
      "Global Step=12, Local batch=2, lose=1560.8427\n",
      "Global Step=12, Local batch=3, lose=1565.4323\n",
      "Global Step=12, Local batch=4, lose=1571.7908\n",
      "Global Step=12, Local batch=5, lose=1569.0674\n",
      "Global Step=12, Local batch=6, lose=1579.2307\n",
      "Global Step=12, Local batch=7, lose=1590.3044\n",
      "Global Step=12, Local batch=8, lose=1568.3594\n",
      "Global Step=12, Local batch=9, lose=1609.4291\n"
     ]
    },
    {
     "name": "stderr",
     "output_type": "stream",
     "text": [
      "100%|██████████| 12/12 [00:00<00:00, 52.07it/s]\n",
      " 50%|█████     | 6/12 [00:00<00:00, 49.74it/s]"
     ]
    },
    {
     "name": "stdout",
     "output_type": "stream",
     "text": [
      "Global Step=12, Local batch=10, lose=1549.6830\n",
      "Global Step=12, Local batch=11, lose=1542.3535\n",
      "Global Step=13, Local batch=0, lose=1533.6250\n",
      "Global Step=13, Local batch=1, lose=1551.8036\n",
      "Global Step=13, Local batch=2, lose=1575.5762\n",
      "Global Step=13, Local batch=3, lose=1578.1193\n",
      "Global Step=13, Local batch=4, lose=1572.3374\n",
      "Global Step=13, Local batch=5, lose=1553.2578\n",
      "Global Step=13, Local batch=6, lose=1561.3596\n",
      "Global Step=13, Local batch=7, lose=1579.8259\n"
     ]
    },
    {
     "name": "stderr",
     "output_type": "stream",
     "text": [
      "100%|██████████| 12/12 [00:00<00:00, 50.13it/s]\n",
      " 50%|█████     | 6/12 [00:00<00:00, 53.04it/s]"
     ]
    },
    {
     "name": "stdout",
     "output_type": "stream",
     "text": [
      "Global Step=13, Local batch=8, lose=1567.7688\n",
      "Global Step=13, Local batch=9, lose=1605.9775\n",
      "Global Step=13, Local batch=10, lose=1550.7769\n",
      "Global Step=13, Local batch=11, lose=1552.7380\n",
      "Global Step=14, Local batch=0, lose=1539.7068\n",
      "Global Step=14, Local batch=1, lose=1538.8488\n",
      "Global Step=14, Local batch=2, lose=1559.1453\n",
      "Global Step=14, Local batch=3, lose=1571.9152\n",
      "Global Step=14, Local batch=4, lose=1575.5406\n",
      "Global Step=14, Local batch=5, lose=1565.9292\n",
      "Global Step=14, Local batch=6, lose=1563.7928\n",
      "Global Step=14, Local batch=7, lose=1571.8065\n"
     ]
    },
    {
     "name": "stderr",
     "output_type": "stream",
     "text": [
      "100%|██████████| 12/12 [00:00<00:00, 52.53it/s]\n",
      " 50%|█████     | 6/12 [00:00<00:00, 51.69it/s]"
     ]
    },
    {
     "name": "stdout",
     "output_type": "stream",
     "text": [
      "Global Step=14, Local batch=8, lose=1563.3279\n",
      "Global Step=14, Local batch=9, lose=1619.2887\n",
      "Global Step=14, Local batch=10, lose=1551.6432\n",
      "Global Step=14, Local batch=11, lose=1533.0020\n",
      "Global Step=15, Local batch=0, lose=1533.7654\n",
      "Global Step=15, Local batch=1, lose=1552.1083\n",
      "Global Step=15, Local batch=2, lose=1562.2770\n",
      "Global Step=15, Local batch=3, lose=1560.5844\n",
      "Global Step=15, Local batch=4, lose=1559.7744\n",
      "Global Step=15, Local batch=5, lose=1548.5765\n",
      "Global Step=15, Local batch=6, lose=1551.7716\n",
      "Global Step=15, Local batch=7, lose=1574.8431\n",
      "Global Step=15, Local batch=8, lose=1561.4856\n",
      "Global Step=15, Local batch=9, lose=1596.5768\n",
      "Global Step=15, Local batch=10, lose=1536.8296\n"
     ]
    },
    {
     "name": "stderr",
     "output_type": "stream",
     "text": [
      "100%|██████████| 12/12 [00:00<00:00, 23.25it/s]\n",
      "  0%|          | 0/12 [00:00<?, ?it/s]"
     ]
    },
    {
     "name": "stdout",
     "output_type": "stream",
     "text": [
      "Global Step=15, Local batch=11, lose=1531.5590\n"
     ]
    },
    {
     "name": "stderr",
     "output_type": "stream",
     "text": [
      " 58%|█████▊    | 7/12 [00:00<00:01,  2.93it/s]"
     ]
    },
    {
     "name": "stdout",
     "output_type": "stream",
     "text": [
      "Global Step=16, Local batch=0, lose=1530.5759\n",
      "Global Step=16, Local batch=1, lose=1539.3615\n",
      "Global Step=16, Local batch=2, lose=1555.8706\n",
      "Global Step=16, Local batch=3, lose=1562.4644\n",
      "Global Step=16, Local batch=4, lose=1551.3629\n",
      "Global Step=16, Local batch=5, lose=1542.0116\n",
      "Global Step=16, Local batch=6, lose=1553.9318\n",
      "Global Step=16, Local batch=7, lose=1565.5817\n",
      "Global Step=16, Local batch=8, lose=1553.3942\n",
      "Global Step=16, Local batch=9, lose=1594.6785\n"
     ]
    },
    {
     "name": "stderr",
     "output_type": "stream",
     "text": [
      "\r",
      " 92%|█████████▏| 11/12 [00:01<00:00,  3.58it/s]"
     ]
    },
    {
     "name": "stdout",
     "output_type": "stream",
     "text": [
      "Global Step=16, Local batch=10, lose=1529.3619\n"
     ]
    },
    {
     "name": "stderr",
     "output_type": "stream",
     "text": [
      "100%|██████████| 12/12 [00:01<00:00,  7.47it/s]\n",
      " 50%|█████     | 6/12 [00:00<00:00, 55.09it/s]"
     ]
    },
    {
     "name": "stdout",
     "output_type": "stream",
     "text": [
      "Global Step=16, Local batch=11, lose=1527.8665\n",
      "Global Step=17, Local batch=0, lose=1531.4194\n",
      "Global Step=17, Local batch=1, lose=1538.6096\n",
      "Global Step=17, Local batch=2, lose=1545.1290\n",
      "Global Step=17, Local batch=3, lose=1549.9658\n",
      "Global Step=17, Local batch=4, lose=1544.4589\n",
      "Global Step=17, Local batch=5, lose=1532.8330\n",
      "Global Step=17, Local batch=6, lose=1538.4270\n",
      "Global Step=17, Local batch=7, lose=1553.0551\n",
      "Global Step=17, Local batch=8, lose=1539.9329\n",
      "Global Step=17, Local batch=9, lose=1585.4285\n"
     ]
    },
    {
     "name": "stderr",
     "output_type": "stream",
     "text": [
      "100%|██████████| 12/12 [00:00<00:00, 17.99it/s]\n",
      "  0%|          | 0/12 [00:00<?, ?it/s]"
     ]
    },
    {
     "name": "stdout",
     "output_type": "stream",
     "text": [
      "Global Step=17, Local batch=10, lose=1518.5787\n",
      "Global Step=17, Local batch=11, lose=1519.9839\n"
     ]
    },
    {
     "name": "stderr",
     "output_type": "stream",
     "text": [
      " 58%|█████▊    | 7/12 [00:00<00:01,  3.01it/s]"
     ]
    },
    {
     "name": "stdout",
     "output_type": "stream",
     "text": [
      "Global Step=18, Local batch=0, lose=1516.1423\n",
      "Global Step=18, Local batch=1, lose=1523.8213\n",
      "Global Step=18, Local batch=2, lose=1541.6168\n",
      "Global Step=18, Local batch=3, lose=1547.8676\n",
      "Global Step=18, Local batch=4, lose=1543.3590\n",
      "Global Step=18, Local batch=5, lose=1534.4385\n",
      "Global Step=18, Local batch=6, lose=1537.3102\n",
      "Global Step=18, Local batch=7, lose=1549.6049\n",
      "Global Step=18, Local batch=8, lose=1545.4426\n",
      "Global Step=18, Local batch=9, lose=1589.3197\n"
     ]
    },
    {
     "name": "stderr",
     "output_type": "stream",
     "text": [
      "100%|██████████| 12/12 [00:01<00:00, 10.33it/s]\n",
      "  0%|          | 0/12 [00:00<?, ?it/s]"
     ]
    },
    {
     "name": "stdout",
     "output_type": "stream",
     "text": [
      "Global Step=18, Local batch=10, lose=1515.8370\n",
      "Global Step=18, Local batch=11, lose=1517.9918\n"
     ]
    },
    {
     "name": "stderr",
     "output_type": "stream",
     "text": [
      " 58%|█████▊    | 7/12 [00:00<00:01,  2.72it/s]"
     ]
    },
    {
     "name": "stdout",
     "output_type": "stream",
     "text": [
      "Global Step=19, Local batch=0, lose=1512.6881\n",
      "Global Step=19, Local batch=1, lose=1523.1132\n",
      "Global Step=19, Local batch=2, lose=1545.3151\n",
      "Global Step=19, Local batch=3, lose=1547.0204\n",
      "Global Step=19, Local batch=4, lose=1544.8142\n",
      "Global Step=19, Local batch=5, lose=1540.1138\n",
      "Global Step=19, Local batch=6, lose=1537.2185\n",
      "Global Step=19, Local batch=7, lose=1543.4613\n",
      "Global Step=19, Local batch=8, lose=1541.8733\n",
      "Global Step=19, Local batch=9, lose=1584.9172\n",
      "Global Step=19, Local batch=10, lose=1517.4780\n"
     ]
    },
    {
     "name": "stderr",
     "output_type": "stream",
     "text": [
      "100%|██████████| 12/12 [00:00<00:00, 16.57it/s]\n",
      "  0%|          | 0/12 [00:00<?, ?it/s]"
     ]
    },
    {
     "name": "stdout",
     "output_type": "stream",
     "text": [
      "Global Step=19, Local batch=11, lose=1515.0668\n"
     ]
    },
    {
     "name": "stderr",
     "output_type": "stream",
     "text": [
      " 50%|█████     | 6/12 [00:00<00:02,  2.90it/s]"
     ]
    },
    {
     "name": "stdout",
     "output_type": "stream",
     "text": [
      "Global Step=20, Local batch=0, lose=1505.9812\n",
      "Global Step=20, Local batch=1, lose=1521.0223\n",
      "Global Step=20, Local batch=2, lose=1541.4825\n",
      "Global Step=20, Local batch=3, lose=1544.2494\n",
      "Global Step=20, Local batch=4, lose=1547.4163\n",
      "Global Step=20, Local batch=5, lose=1543.5726\n",
      "Global Step=20, Local batch=6, lose=1536.4459\n",
      "Global Step=20, Local batch=7, lose=1541.4873\n",
      "Global Step=20, Local batch=8, lose=1541.3024\n",
      "Global Step=20, Local batch=9, lose=1588.0322\n"
     ]
    },
    {
     "name": "stderr",
     "output_type": "stream",
     "text": [
      "100%|██████████| 12/12 [00:00<00:00, 16.95it/s]\n",
      " 50%|█████     | 6/12 [00:00<00:00, 52.60it/s]"
     ]
    },
    {
     "name": "stdout",
     "output_type": "stream",
     "text": [
      "Global Step=20, Local batch=10, lose=1518.1158\n",
      "Global Step=20, Local batch=11, lose=1511.8896\n",
      "Global Step=21, Local batch=0, lose=1507.7223\n",
      "Global Step=21, Local batch=1, lose=1522.6525\n",
      "Global Step=21, Local batch=2, lose=1542.3984\n",
      "Global Step=21, Local batch=3, lose=1540.8369\n",
      "Global Step=21, Local batch=4, lose=1539.3749\n",
      "Global Step=21, Local batch=5, lose=1534.3558\n",
      "Global Step=21, Local batch=6, lose=1538.9005\n",
      "Global Step=21, Local batch=7, lose=1548.8823\n",
      "Global Step=21, Local batch=8, lose=1540.7002\n"
     ]
    },
    {
     "name": "stderr",
     "output_type": "stream",
     "text": [
      "100%|██████████| 12/12 [00:00<00:00, 53.32it/s]\n",
      " 50%|█████     | 6/12 [00:00<00:00, 55.86it/s]"
     ]
    },
    {
     "name": "stdout",
     "output_type": "stream",
     "text": [
      "Global Step=21, Local batch=9, lose=1579.9381\n",
      "Global Step=21, Local batch=10, lose=1514.7871\n",
      "Global Step=21, Local batch=11, lose=1518.5125\n",
      "Global Step=22, Local batch=0, lose=1513.7787\n",
      "Global Step=22, Local batch=1, lose=1522.8734\n",
      "Global Step=22, Local batch=2, lose=1541.9105\n",
      "Global Step=22, Local batch=3, lose=1540.0199\n",
      "Global Step=22, Local batch=4, lose=1541.8718\n",
      "Global Step=22, Local batch=5, lose=1538.9561\n",
      "Global Step=22, Local batch=6, lose=1538.5631\n",
      "Global Step=22, Local batch=7, lose=1544.6965\n",
      "Global Step=22, Local batch=8, lose=1537.1686\n"
     ]
    },
    {
     "name": "stderr",
     "output_type": "stream",
     "text": [
      "100%|██████████| 12/12 [00:00<00:00, 55.46it/s]\n",
      " 50%|█████     | 6/12 [00:00<00:00, 53.22it/s]"
     ]
    },
    {
     "name": "stdout",
     "output_type": "stream",
     "text": [
      "Global Step=22, Local batch=9, lose=1580.9109\n",
      "Global Step=22, Local batch=10, lose=1513.7258\n",
      "Global Step=22, Local batch=11, lose=1513.8818\n",
      "Global Step=23, Local batch=0, lose=1507.5918\n",
      "Global Step=23, Local batch=1, lose=1523.2778\n",
      "Global Step=23, Local batch=2, lose=1542.5714\n",
      "Global Step=23, Local batch=3, lose=1542.4531\n",
      "Global Step=23, Local batch=4, lose=1548.9075\n",
      "Global Step=23, Local batch=5, lose=1545.0549\n",
      "Global Step=23, Local batch=6, lose=1543.3878\n",
      "Global Step=23, Local batch=7, lose=1539.8501\n"
     ]
    },
    {
     "name": "stderr",
     "output_type": "stream",
     "text": [
      "100%|██████████| 12/12 [00:00<00:00, 52.49it/s]\n",
      "  0%|          | 0/12 [00:00<?, ?it/s]"
     ]
    },
    {
     "name": "stdout",
     "output_type": "stream",
     "text": [
      "Global Step=23, Local batch=8, lose=1538.9548\n",
      "Global Step=23, Local batch=9, lose=1598.8383\n",
      "Global Step=23, Local batch=10, lose=1533.8120\n",
      "Global Step=23, Local batch=11, lose=1512.1283\n"
     ]
    },
    {
     "name": "stderr",
     "output_type": "stream",
     "text": [
      " 58%|█████▊    | 7/12 [00:00<00:02,  2.01it/s]"
     ]
    },
    {
     "name": "stdout",
     "output_type": "stream",
     "text": [
      "Global Step=24, Local batch=0, lose=1501.5671\n",
      "Global Step=24, Local batch=1, lose=1526.2515\n",
      "Global Step=24, Local batch=2, lose=1551.1213\n",
      "Global Step=24, Local batch=3, lose=1544.0916\n",
      "Global Step=24, Local batch=4, lose=1532.1176\n",
      "Global Step=24, Local batch=5, lose=1517.0189\n",
      "Global Step=24, Local batch=6, lose=1529.6674\n",
      "Global Step=24, Local batch=7, lose=1553.9159\n",
      "Global Step=24, Local batch=8, lose=1542.1519\n",
      "Global Step=24, Local batch=9, lose=1573.3901\n",
      "Global Step=24, Local batch=10, lose=1509.2726\n"
     ]
    },
    {
     "name": "stderr",
     "output_type": "stream",
     "text": [
      "100%|██████████| 12/12 [00:00<00:00, 13.08it/s]\n",
      " 50%|█████     | 6/12 [00:00<00:00, 55.67it/s]"
     ]
    },
    {
     "name": "stdout",
     "output_type": "stream",
     "text": [
      "Global Step=24, Local batch=11, lose=1513.8501\n",
      "Global Step=25, Local batch=0, lose=1510.2039\n",
      "Global Step=25, Local batch=1, lose=1522.0194\n",
      "Global Step=25, Local batch=2, lose=1538.5909\n",
      "Global Step=25, Local batch=3, lose=1526.9792\n",
      "Global Step=25, Local batch=4, lose=1523.9684\n",
      "Global Step=25, Local batch=5, lose=1529.8596\n",
      "Global Step=25, Local batch=6, lose=1533.7988\n",
      "Global Step=25, Local batch=7, lose=1536.2588\n",
      "Global Step=25, Local batch=8, lose=1538.8755\n",
      "Global Step=25, Local batch=9, lose=1577.1771\n",
      "Global Step=25, Local batch=10, lose=1507.2273\n"
     ]
    },
    {
     "name": "stderr",
     "output_type": "stream",
     "text": [
      "100%|██████████| 12/12 [00:00<00:00, 55.27it/s]\n",
      " 50%|█████     | 6/12 [00:00<00:00, 56.36it/s]"
     ]
    },
    {
     "name": "stdout",
     "output_type": "stream",
     "text": [
      "Global Step=25, Local batch=11, lose=1513.3683\n",
      "Global Step=26, Local batch=0, lose=1506.4940\n",
      "Global Step=26, Local batch=1, lose=1505.7251\n",
      "Global Step=26, Local batch=2, lose=1527.3284\n",
      "Global Step=26, Local batch=3, lose=1529.6785\n",
      "Global Step=26, Local batch=4, lose=1528.8466\n",
      "Global Step=26, Local batch=5, lose=1517.7462\n",
      "Global Step=26, Local batch=6, lose=1518.7169\n",
      "Global Step=26, Local batch=7, lose=1532.5770\n",
      "Global Step=26, Local batch=8, lose=1530.8831\n",
      "Global Step=26, Local batch=9, lose=1574.7510\n",
      "Global Step=26, Local batch=10, lose=1503.0277\n"
     ]
    },
    {
     "name": "stderr",
     "output_type": "stream",
     "text": [
      "100%|██████████| 12/12 [00:00<00:00, 24.55it/s]\n",
      "  0%|          | 0/12 [00:00<?, ?it/s]"
     ]
    },
    {
     "name": "stdout",
     "output_type": "stream",
     "text": [
      "Global Step=26, Local batch=11, lose=1498.7363\n"
     ]
    },
    {
     "name": "stderr",
     "output_type": "stream",
     "text": [
      " 58%|█████▊    | 7/12 [00:00<00:01,  2.90it/s]"
     ]
    },
    {
     "name": "stdout",
     "output_type": "stream",
     "text": [
      "Global Step=27, Local batch=0, lose=1495.9812\n",
      "Global Step=27, Local batch=1, lose=1504.0940\n",
      "Global Step=27, Local batch=2, lose=1523.1635\n",
      "Global Step=27, Local batch=3, lose=1523.5988\n",
      "Global Step=27, Local batch=4, lose=1523.6698\n",
      "Global Step=27, Local batch=5, lose=1513.0254\n",
      "Global Step=27, Local batch=6, lose=1512.5769\n",
      "Global Step=27, Local batch=7, lose=1527.2103\n",
      "Global Step=27, Local batch=8, lose=1529.6117\n",
      "Global Step=27, Local batch=9, lose=1572.3474\n",
      "Global Step=27, Local batch=10, lose=1500.3793\n"
     ]
    },
    {
     "name": "stderr",
     "output_type": "stream",
     "text": [
      "100%|██████████| 12/12 [00:01<00:00,  3.62it/s]\n",
      "  0%|          | 0/12 [00:00<?, ?it/s]"
     ]
    },
    {
     "name": "stdout",
     "output_type": "stream",
     "text": [
      "Global Step=27, Local batch=11, lose=1495.5385\n"
     ]
    },
    {
     "name": "stderr",
     "output_type": "stream",
     "text": [
      " 58%|█████▊    | 7/12 [00:00<00:01,  2.86it/s]"
     ]
    },
    {
     "name": "stdout",
     "output_type": "stream",
     "text": [
      "Global Step=28, Local batch=0, lose=1494.9032\n",
      "Global Step=28, Local batch=1, lose=1507.3765\n",
      "Global Step=28, Local batch=2, lose=1526.3721\n",
      "Global Step=28, Local batch=3, lose=1527.1948\n",
      "Global Step=28, Local batch=4, lose=1524.4714\n",
      "Global Step=28, Local batch=5, lose=1515.3425\n",
      "Global Step=28, Local batch=6, lose=1511.0204\n",
      "Global Step=28, Local batch=7, lose=1527.5719\n",
      "Global Step=28, Local batch=8, lose=1532.2823\n",
      "Global Step=28, Local batch=9, lose=1574.5074\n",
      "Global Step=28, Local batch=10, lose=1501.1268\n"
     ]
    },
    {
     "name": "stderr",
     "output_type": "stream",
     "text": [
      "100%|██████████| 12/12 [00:00<00:00, 17.25it/s]\n",
      "  0%|          | 0/12 [00:00<?, ?it/s]"
     ]
    },
    {
     "name": "stdout",
     "output_type": "stream",
     "text": [
      "Global Step=28, Local batch=11, lose=1499.9456\n"
     ]
    },
    {
     "name": "stderr",
     "output_type": "stream",
     "text": [
      " 58%|█████▊    | 7/12 [00:00<00:01,  2.80it/s]"
     ]
    },
    {
     "name": "stdout",
     "output_type": "stream",
     "text": [
      "Global Step=29, Local batch=0, lose=1493.2517\n",
      "Global Step=29, Local batch=1, lose=1503.7043\n",
      "Global Step=29, Local batch=2, lose=1523.8208\n",
      "Global Step=29, Local batch=3, lose=1518.1305\n",
      "Global Step=29, Local batch=4, lose=1516.9858\n",
      "Global Step=29, Local batch=5, lose=1507.9233\n",
      "Global Step=29, Local batch=6, lose=1509.4650\n",
      "Global Step=29, Local batch=7, lose=1531.1997\n",
      "Global Step=29, Local batch=8, lose=1528.4478\n",
      "Global Step=29, Local batch=9, lose=1564.8029\n",
      "Global Step=29, Local batch=10, lose=1493.4927\n"
     ]
    },
    {
     "name": "stderr",
     "output_type": "stream",
     "text": [
      "100%|██████████| 12/12 [00:00<00:00, 17.03it/s]\n",
      " 50%|█████     | 6/12 [00:00<00:00, 54.17it/s]"
     ]
    },
    {
     "name": "stdout",
     "output_type": "stream",
     "text": [
      "Global Step=29, Local batch=11, lose=1494.3126\n",
      "Global Step=30, Local batch=0, lose=1494.2966\n",
      "Global Step=30, Local batch=1, lose=1505.0737\n",
      "Global Step=30, Local batch=2, lose=1522.7587\n",
      "Global Step=30, Local batch=3, lose=1519.0450\n",
      "Global Step=30, Local batch=4, lose=1515.5021\n",
      "Global Step=30, Local batch=5, lose=1508.7380\n",
      "Global Step=30, Local batch=6, lose=1513.1978\n",
      "Global Step=30, Local batch=7, lose=1532.9357\n",
      "Global Step=30, Local batch=8, lose=1537.0613\n",
      "Global Step=30, Local batch=9, lose=1573.8271\n"
     ]
    },
    {
     "name": "stderr",
     "output_type": "stream",
     "text": [
      "100%|██████████| 12/12 [00:00<00:00, 54.20it/s]\n",
      "  0%|          | 0/12 [00:00<?, ?it/s]"
     ]
    },
    {
     "name": "stdout",
     "output_type": "stream",
     "text": [
      "Global Step=30, Local batch=10, lose=1496.9956\n",
      "Global Step=30, Local batch=11, lose=1493.3058\n"
     ]
    },
    {
     "name": "stderr",
     "output_type": "stream",
     "text": [
      "100%|██████████| 12/12 [00:00<00:00, 16.97it/s]\n",
      "  0%|          | 0/12 [00:00<?, ?it/s]"
     ]
    },
    {
     "name": "stdout",
     "output_type": "stream",
     "text": [
      "Global Step=31, Local batch=0, lose=1489.1718\n",
      "Global Step=31, Local batch=1, lose=1502.2683\n",
      "Global Step=31, Local batch=2, lose=1520.0892\n",
      "Global Step=31, Local batch=3, lose=1519.4290\n",
      "Global Step=31, Local batch=4, lose=1518.8900\n",
      "Global Step=31, Local batch=5, lose=1517.6364\n",
      "Global Step=31, Local batch=6, lose=1518.1993\n",
      "Global Step=31, Local batch=7, lose=1527.9332\n",
      "Global Step=31, Local batch=8, lose=1523.9302\n",
      "Global Step=31, Local batch=9, lose=1563.7329\n",
      "Global Step=31, Local batch=10, lose=1496.6763\n",
      "Global Step=31, Local batch=11, lose=1497.2715\n"
     ]
    },
    {
     "name": "stderr",
     "output_type": "stream",
     "text": [
      "100%|██████████| 12/12 [00:00<00:00, 54.20it/s]"
     ]
    },
    {
     "name": "stdout",
     "output_type": "stream",
     "text": [
      "Global Step=32, Local batch=0, lose=1492.5425\n",
      "Global Step=32, Local batch=1, lose=1501.7639\n",
      "Global Step=32, Local batch=2, lose=1516.7601\n",
      "Global Step=32, Local batch=3, lose=1517.8705\n",
      "Global Step=32, Local batch=4, lose=1521.9098\n",
      "Global Step=32, Local batch=5, lose=1515.5886\n",
      "Global Step=32, Local batch=6, lose=1508.5397\n",
      "Global Step=32, Local batch=7, lose=1520.1500\n",
      "Global Step=32, Local batch=8, lose=1519.7196\n",
      "Global Step=32, Local batch=9, lose=1563.3060\n",
      "Global Step=32, Local batch=10, lose=1496.5929\n",
      "Global Step=32, Local batch=11, lose=1493.1935\n"
     ]
    },
    {
     "name": "stderr",
     "output_type": "stream",
     "text": [
      "\n",
      " 58%|█████▊    | 7/12 [00:00<00:01,  2.98it/s]"
     ]
    },
    {
     "name": "stdout",
     "output_type": "stream",
     "text": [
      "Global Step=33, Local batch=0, lose=1483.7203\n",
      "Global Step=33, Local batch=1, lose=1488.7124\n",
      "Global Step=33, Local batch=2, lose=1508.6268\n",
      "Global Step=33, Local batch=3, lose=1508.5674\n",
      "Global Step=33, Local batch=4, lose=1513.9333\n",
      "Global Step=33, Local batch=5, lose=1506.1357\n",
      "Global Step=33, Local batch=6, lose=1501.9077\n",
      "Global Step=33, Local batch=7, lose=1514.2023\n",
      "Global Step=33, Local batch=8, lose=1509.1024\n",
      "Global Step=33, Local batch=9, lose=1553.8274\n",
      "Global Step=33, Local batch=10, lose=1487.5758\n"
     ]
    },
    {
     "name": "stderr",
     "output_type": "stream",
     "text": [
      "100%|██████████| 12/12 [00:00<00:00, 17.69it/s]\n",
      "  0%|          | 0/12 [00:00<?, ?it/s]"
     ]
    },
    {
     "name": "stdout",
     "output_type": "stream",
     "text": [
      "Global Step=33, Local batch=11, lose=1486.7648\n"
     ]
    },
    {
     "name": "stderr",
     "output_type": "stream",
     "text": [
      " 58%|█████▊    | 7/12 [00:00<00:01,  3.05it/s]"
     ]
    },
    {
     "name": "stdout",
     "output_type": "stream",
     "text": [
      "Global Step=34, Local batch=0, lose=1479.9851\n",
      "Global Step=34, Local batch=1, lose=1489.4707\n",
      "Global Step=34, Local batch=2, lose=1511.7352\n",
      "Global Step=34, Local batch=3, lose=1513.8872\n",
      "Global Step=34, Local batch=4, lose=1521.3474\n",
      "Global Step=34, Local batch=5, lose=1514.9681\n",
      "Global Step=34, Local batch=6, lose=1510.7529\n",
      "Global Step=34, Local batch=7, lose=1515.2249\n",
      "Global Step=34, Local batch=8, lose=1508.5604\n",
      "Global Step=34, Local batch=9, lose=1555.4833\n",
      "Global Step=34, Local batch=10, lose=1489.1505\n"
     ]
    },
    {
     "name": "stderr",
     "output_type": "stream",
     "text": [
      "100%|██████████| 12/12 [00:00<00:00, 18.06it/s]\n",
      "  0%|          | 0/12 [00:00<?, ?it/s]"
     ]
    },
    {
     "name": "stdout",
     "output_type": "stream",
     "text": [
      "Global Step=34, Local batch=11, lose=1484.3821\n"
     ]
    },
    {
     "name": "stderr",
     "output_type": "stream",
     "text": [
      " 58%|█████▊    | 7/12 [00:00<00:01,  2.91it/s]"
     ]
    },
    {
     "name": "stdout",
     "output_type": "stream",
     "text": [
      "Global Step=35, Local batch=0, lose=1474.4648\n",
      "Global Step=35, Local batch=1, lose=1484.6064\n",
      "Global Step=35, Local batch=2, lose=1507.3397\n",
      "Global Step=35, Local batch=3, lose=1507.9193\n",
      "Global Step=35, Local batch=4, lose=1511.2218\n",
      "Global Step=35, Local batch=5, lose=1501.6443\n",
      "Global Step=35, Local batch=6, lose=1497.3088\n",
      "Global Step=35, Local batch=7, lose=1512.5936\n",
      "Global Step=35, Local batch=8, lose=1514.3392\n",
      "Global Step=35, Local batch=9, lose=1563.3597\n",
      "Global Step=35, Local batch=10, lose=1494.4933\n"
     ]
    },
    {
     "name": "stderr",
     "output_type": "stream",
     "text": [
      "100%|██████████| 12/12 [00:00<00:00, 17.49it/s]\n",
      " 50%|█████     | 6/12 [00:00<00:00, 54.13it/s]"
     ]
    },
    {
     "name": "stdout",
     "output_type": "stream",
     "text": [
      "Global Step=35, Local batch=11, lose=1487.9603\n",
      "Global Step=36, Local batch=0, lose=1476.0477\n",
      "Global Step=36, Local batch=1, lose=1487.1300\n",
      "Global Step=36, Local batch=2, lose=1508.1490\n",
      "Global Step=36, Local batch=3, lose=1504.9794\n",
      "Global Step=36, Local batch=4, lose=1508.6737\n",
      "Global Step=36, Local batch=5, lose=1495.9540\n",
      "Global Step=36, Local batch=6, lose=1496.0254\n",
      "Global Step=36, Local batch=7, lose=1516.0930\n",
      "Global Step=36, Local batch=8, lose=1508.8529\n",
      "Global Step=36, Local batch=9, lose=1549.7179\n"
     ]
    },
    {
     "name": "stderr",
     "output_type": "stream",
     "text": [
      "100%|██████████| 12/12 [00:00<00:00, 53.82it/s]\n",
      " 50%|█████     | 6/12 [00:00<00:00, 55.11it/s]"
     ]
    },
    {
     "name": "stdout",
     "output_type": "stream",
     "text": [
      "Global Step=36, Local batch=10, lose=1484.8787\n",
      "Global Step=36, Local batch=11, lose=1482.5040\n",
      "Global Step=37, Local batch=0, lose=1478.9502\n",
      "Global Step=37, Local batch=1, lose=1491.2516\n",
      "Global Step=37, Local batch=2, lose=1508.4706\n",
      "Global Step=37, Local batch=3, lose=1511.9445\n",
      "Global Step=37, Local batch=4, lose=1509.8358\n",
      "Global Step=37, Local batch=5, lose=1499.3595\n",
      "Global Step=37, Local batch=6, lose=1504.1948\n",
      "Global Step=37, Local batch=7, lose=1515.4874\n",
      "Global Step=37, Local batch=8, lose=1506.0076\n"
     ]
    },
    {
     "name": "stderr",
     "output_type": "stream",
     "text": [
      "100%|██████████| 12/12 [00:00<00:00, 54.52it/s]\n",
      "  0%|          | 0/12 [00:00<?, ?it/s]"
     ]
    },
    {
     "name": "stdout",
     "output_type": "stream",
     "text": [
      "Global Step=37, Local batch=9, lose=1553.5731\n",
      "Global Step=37, Local batch=10, lose=1479.9371\n",
      "Global Step=37, Local batch=11, lose=1478.5308\n"
     ]
    },
    {
     "name": "stderr",
     "output_type": "stream",
     "text": [
      " 58%|█████▊    | 7/12 [00:00<00:01,  2.90it/s]"
     ]
    },
    {
     "name": "stdout",
     "output_type": "stream",
     "text": [
      "Global Step=38, Local batch=0, lose=1473.1815\n",
      "Global Step=38, Local batch=1, lose=1482.8246\n",
      "Global Step=38, Local batch=2, lose=1501.9747\n",
      "Global Step=38, Local batch=3, lose=1503.6373\n",
      "Global Step=38, Local batch=4, lose=1498.5764\n",
      "Global Step=38, Local batch=5, lose=1498.4182\n",
      "Global Step=38, Local batch=6, lose=1504.4108\n",
      "Global Step=38, Local batch=7, lose=1513.2855\n",
      "Global Step=38, Local batch=8, lose=1507.7412\n",
      "Global Step=38, Local batch=9, lose=1548.7725\n",
      "Global Step=38, Local batch=10, lose=1475.9601\n"
     ]
    },
    {
     "name": "stderr",
     "output_type": "stream",
     "text": [
      "100%|██████████| 12/12 [00:00<00:00, 17.28it/s]\n",
      " 50%|█████     | 6/12 [00:00<00:00, 55.13it/s]"
     ]
    },
    {
     "name": "stdout",
     "output_type": "stream",
     "text": [
      "Global Step=38, Local batch=11, lose=1485.1295\n",
      "Global Step=39, Local batch=0, lose=1474.2827\n",
      "Global Step=39, Local batch=1, lose=1480.2504\n",
      "Global Step=39, Local batch=2, lose=1503.2197\n",
      "Global Step=39, Local batch=3, lose=1500.8429\n",
      "Global Step=39, Local batch=4, lose=1501.5317\n",
      "Global Step=39, Local batch=5, lose=1504.6124\n",
      "Global Step=39, Local batch=6, lose=1501.2383\n",
      "Global Step=39, Local batch=7, lose=1512.6506\n",
      "Global Step=39, Local batch=8, lose=1506.0930\n",
      "Global Step=39, Local batch=9, lose=1546.9065\n"
     ]
    },
    {
     "name": "stderr",
     "output_type": "stream",
     "text": [
      "\r",
      "100%|██████████| 12/12 [00:00<00:00, 54.76it/s]"
     ]
    },
    {
     "name": "stdout",
     "output_type": "stream",
     "text": [
      "Global Step=39, Local batch=10, lose=1480.6544\n",
      "Global Step=39, Local batch=11, lose=1480.7025\n"
     ]
    },
    {
     "name": "stderr",
     "output_type": "stream",
     "text": [
      "\n"
     ]
    }
   ],
   "source": [
    "if not os.path.exists('tmpnn/'):\n",
    "    os.mkdir('tmpnn/')\n",
    "with tf.Session() as sess:\n",
    "    if os.path.exists('tmpnn/checkpoint'):\n",
    "        saver.restore(sess, 'tmpnn/model.ckpt')\n",
    "    else:\n",
    "        sess.run(tf.global_variables_initializer())\n",
    "    total_batch  = int(len(train_images)/batch_size)\n",
    "    min_lose = float('inf')\n",
    "    for e in range(train_epochs):    \n",
    "        for b in tqdm(range(total_batch)):\n",
    "            batch = train_images[b*batch_size:(b+1)*batch_size]\n",
    "            imgs = batch.reshape((-1,28,28,1))\n",
    "            batch_cost, _=sess.run([loss, optimizer],feed_dict={X:batch})\n",
    "            msg = \"Global Step={:d}, Local batch={:d}, lose={:.4f}\"\n",
    "            if(batch_cost<min_lose):\n",
    "                min_lose = batch_cost\n",
    "                saver.save(sess, 'tmpnn/model.ckpt')\n",
    "            print(msg.format(e,b,batch_cost))\n",
    "    "
   ]
  },
  {
   "cell_type": "code",
   "execution_count": 87,
   "metadata": {
    "scrolled": true
   },
   "outputs": [
    {
     "name": "stdout",
     "output_type": "stream",
     "text": [
      "INFO:tensorflow:Restoring parameters from tmpnn/model.ckpt\n"
     ]
    },
    {
     "name": "stderr",
     "output_type": "stream",
     "text": [
      "100%|██████████| 2/2 [00:00<00:00, 23.88it/s]\n"
     ]
    },
    {
     "name": "stdout",
     "output_type": "stream",
     "text": [
      "Test batch=0, lose=1520.4596\n",
      "Test batch=1, lose=1440.8087\n"
     ]
    },
    {
     "data": {
      "image/png": "[encoded data removed]",
      "text/plain": [
       "<Figure size 576x576 with 30 Axes>"
      ]
     },
     "metadata": {},
     "output_type": "display_data"
    },
    {
     "name": "stdout",
     "output_type": "stream",
     "text": [
      "---------------------------------------------------\n"
     ]
    },
    {
     "data": {
      "image/png": "[encoded data removed]",
      "text/plain": [
       "<Figure size 576x576 with 30 Axes>"
      ]
     },
     "metadata": {},
     "output_type": "display_data"
    }
   ],
   "source": [
    "#Test Processing:\n",
    "output = []\n",
    "with tf.Session() as sess:\n",
    "    if os.path.exists('tmpnn/checkpoint'):        \n",
    "        saver.restore(sess, 'tmpnn/model.ckpt')\n",
    "        total_batch  = int(len(test_images)/batch_size)\n",
    "        msg = \"Test batch={:d}, lose={:.4f}\"\n",
    "        for b in tqdm(range(total_batch)):\n",
    "            batch = test_images[b*batch_size:(b+1)*batch_size]\n",
    "            imgs = batch.reshape((-1,28,28,1))\n",
    "            cost,out = sess.run([loss,y_pred], feed_dict={X:batch})\n",
    "            output.append(out)\n",
    "            print(msg.format(b,cost))\n",
    "\n",
    "    else :\n",
    "        print(\"Please run training part first\")\n",
    "    fig1 = plt.figure(figsize=(8,8))\n",
    "    fig1.subplots_adjust(left=0, right=1, bottom=0, top=1, hspace=0.5, wspace=0.05)\n",
    "    for i in range(30):\n",
    "        image = np.reshape(test_images[i],[28,28])\n",
    "        ax=fig1.add_subplot(6,5,i+1,xticks=[],yticks=[]) \n",
    "        ax.imshow(image,cmap=plt.cm.binary,interpolation='nearest') \n",
    "        ax.text(0,7,str(test_labels[i]))\n",
    "    plt.show()\n",
    "    print(\"---------------------------------------------------\")\n",
    "    fig = plt.figure(figsize=(8,8))\n",
    "    fig.subplots_adjust(left=0, right=1, bottom=0, top=1, hspace=0.5, wspace=0.05)\n",
    "    for i in range(30):\n",
    "        image = np.reshape(output[0][i],[28,28])\n",
    "        ax=fig.add_subplot(6,5,i+1,xticks=[],yticks=[]) \n",
    "        ax.imshow(image,cmap=plt.cm.binary,interpolation='nearest') \n",
    "        ax.text(0,7,str(test_labels[i]))\n",
    "    plt.show()"
   ]
  },
  {
   "cell_type": "code",
   "execution_count": null,
   "metadata": {},
   "outputs": [],
   "source": []
  }
 ],
 "metadata": {
  "kernelspec": {
   "display_name": "Python 3",
   "language": "python",
   "name": "python3"
  },
  "language_info": {
   "codemirror_mode": {
    "name": "ipython",
    "version": 3
   },
   "file_extension": ".py",
   "mimetype": "text/x-python",
   "name": "python",
   "nbconvert_exporter": "python",
   "pygments_lexer": "ipython3",
   "version": "3.5.2"
  }
 },
 "nbformat": 4,
 "nbformat_minor": 2
}
