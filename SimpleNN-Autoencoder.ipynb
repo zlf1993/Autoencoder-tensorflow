{
 "cells": [
  {
   "cell_type": "code",
   "execution_count": 69,
   "metadata": {},
   "outputs": [
    {
     "name": "stdout",
     "output_type": "stream",
     "text": [
      "Extracting /tmp/data/train-images-idx3-ubyte.gz\n",
      "Extracting /tmp/data/train-labels-idx1-ubyte.gz\n",
      "Extracting /tmp/data/t10k-images-idx3-ubyte.gz\n",
      "Extracting /tmp/data/t10k-labels-idx1-ubyte.gz\n"
     ]
    }
   ],
   "source": [
    "import tensorflow as tf\n",
    "import numpy as np\n",
    "from matplotlib import pyplot as plt\n",
    "import struct\n",
    "import os\n",
    "from tqdm import tqdm\n",
    "from tqdm import trange\n",
    "from tensorflow.python.client import device_lib\n",
    "\n",
    "# Import MNIST data\n",
    "from tensorflow.examples.tutorials.mnist import input_data\n",
    "mnist = input_data.read_data_sets(\"/tmp/data/\", one_hot=True)\n",
    "\n",
    "# Training Parameters\n",
    "learning_rate = 0.01\n",
    "train_epochs = 40\n",
    "batch_size = 5000\n",
    "\n",
    "# Network Parameters\n",
    "num_hidden_1 = 256 # 1st layer num features\n",
    "num_hidden_2 = 128 # 2nd layer num features\n",
    "num_hidden_3 = 64 # 3rd layer num features\n",
    "num_input = 784 # MNIST data input (img shape: 28*28)\n",
    "\n",
    "# tf Graph input (only pictures)\n",
    "X = tf.placeholder(\"float\", [None, num_input])\n",
    "weights = {\n",
    "    'encoder_h1': tf.Variable(tf.random_normal([num_input, num_hidden_1])),\n",
    "    'encoder_h2': tf.Variable(tf.random_normal([num_hidden_1, num_hidden_2])),\n",
    "    'encoder_h3': tf.Variable(tf.random_normal([num_hidden_2, num_hidden_3])),\n",
    "    'decoder_h1': tf.Variable(tf.random_normal([num_hidden_3, num_hidden_2])),\n",
    "    'decoder_h2': tf.Variable(tf.random_normal([num_hidden_2, num_hidden_1])),\n",
    "    'decoder_h3': tf.Variable(tf.random_normal([num_hidden_1, num_input])),\n",
    "}\n",
    "biases = {\n",
    "    'encoder_b1': tf.Variable(tf.random_normal([num_hidden_1])),\n",
    "    'encoder_b2': tf.Variable(tf.random_normal([num_hidden_2])),\n",
    "    'encoder_b3': tf.Variable(tf.random_normal([num_hidden_3])),\n",
    "    'decoder_b1': tf.Variable(tf.random_normal([num_hidden_2])),\n",
    "    'decoder_b2': tf.Variable(tf.random_normal([num_hidden_1])),\n",
    "    'decoder_b3': tf.Variable(tf.random_normal([num_input])),\n",
    "}"
   ]
  },
  {
   "cell_type": "code",
   "execution_count": 70,
   "metadata": {},
   "outputs": [],
   "source": [
    "def load_mnist_train(path, kind='train'): \n",
    "    labels_path = os.path.join(path, '%s-labels.idx1-ubyte' % kind)\n",
    "    images_path = os.path.join(path, '%s-images.idx3-ubyte' % kind)\n",
    "    with open(labels_path, 'rb') as lbpath:\n",
    "        magic, n = struct.unpack('>II', lbpath.read(8))\n",
    "        labels = np.fromfile(lbpath,dtype=np.uint8)\n",
    "    with open(images_path, 'rb') as imgpath: \n",
    "        magic, num, rows, cols = struct.unpack('>IIII',imgpath.read(16)) \n",
    "        images = np.fromfile(imgpath,dtype=np.uint8).reshape(len(labels), 784)\n",
    "    \n",
    "    return images, labels"
   ]
  },
  {
   "cell_type": "code",
   "execution_count": 71,
   "metadata": {},
   "outputs": [],
   "source": [
    "def load_mnist_test(path, kind='t10k'): \n",
    "    labels_path = os.path.join(path,'%s-labels.idx1-ubyte'% kind) \n",
    "    images_path = os.path.join(path,'%s-images.idx3-ubyte'% kind) \n",
    "    with open(labels_path, 'rb') as lbpath: \n",
    "        magic, n = struct.unpack('>II',lbpath.read(8)) \n",
    "        labels = np.fromfile(lbpath,dtype=np.uint8) \n",
    "    with open(images_path, 'rb') as imgpath: \n",
    "        magic, num, rows, cols = struct.unpack('>IIII',imgpath.read(16)) \n",
    "        images = np.fromfile(imgpath,dtype=np.uint8).reshape(len(labels), 784)\n",
    "    \n",
    "    return images, labels"
   ]
  },
  {
   "cell_type": "code",
   "execution_count": 72,
   "metadata": {},
   "outputs": [
    {
     "name": "stdout",
     "output_type": "stream",
     "text": [
      "60000\n"
     ]
    }
   ],
   "source": [
    "path = os.getcwd()\n",
    "train_images, train_labels = load_mnist_train(path)\n",
    "test_images, test_labels = load_mnist_test(path)\n",
    "print(len(train_images))"
   ]
  },
  {
   "cell_type": "code",
   "execution_count": 73,
   "metadata": {},
   "outputs": [],
   "source": [
    "# Building the encoder\n",
    "def encoder(x):\n",
    "    # Encoder Hidden layer with sigmoid activation #1\n",
    "    layer_1 = tf.nn.sigmoid(tf.add(tf.matmul(x, weights['encoder_h1']),\n",
    "                                   biases['encoder_b1']))\n",
    "    # Encoder Hidden layer with sigmoid activation #2\n",
    "    layer_2 = tf.nn.sigmoid(tf.add(tf.matmul(layer_1, weights['encoder_h2']),\n",
    "                                   biases['encoder_b2']))\n",
    "    layer_3 = tf.nn.sigmoid(tf.add(tf.matmul(layer_2, weights['encoder_h3']),\n",
    "                                   biases['encoder_b3']), name = 'feature')\n",
    "    return layer_3\n"
   ]
  },
  {
   "cell_type": "code",
   "execution_count": 74,
   "metadata": {},
   "outputs": [],
   "source": [
    "# Building the decoder\n",
    "def decoder(x):\n",
    "    # Decoder Hidden layer with sigmoid activation #1\n",
    "    layer_1 = tf.nn.sigmoid(tf.add(tf.matmul(x, weights['decoder_h1']),\n",
    "                                   biases['decoder_b1']))\n",
    "    # Decoder Hidden layer with sigmoid activation #2\n",
    "    layer_2 = tf.nn.sigmoid(tf.add(tf.matmul(layer_1, weights['decoder_h2']),\n",
    "                                   biases['decoder_b2']))\n",
    "    # Decoder Hidden layer with sigmoid activation #3\n",
    "    layer_3 = tf.add(tf.matmul(layer_2, weights['decoder_h3']),\n",
    "                                biases['decoder_b3'])\n",
    "    return layer_3"
   ]
  },
  {
   "cell_type": "code",
   "execution_count": 75,
   "metadata": {},
   "outputs": [],
   "source": [
    "def check_available_gpus():\n",
    "    local_devices = device_lib.list_local_devices()\n",
    "    gpu_names = [x.name for x in device_lib.list_local_devices() if x.device_type == 'GPU']\n",
    "    gpu_num = len(gpu_names)\n",
    "    print('{0} GPUs are detected : {1}'.format(gpu_num, gpu_names))\n",
    "    return gpu_num"
   ]
  },
  {
   "cell_type": "code",
   "execution_count": 76,
   "metadata": {},
   "outputs": [
    {
     "name": "stdout",
     "output_type": "stream",
     "text": [
      "1 GPUs are detected : ['/device:GPU:0']\n"
     ]
    }
   ],
   "source": [
    "# Construct model\n",
    "encoder_op = encoder(X)\n",
    "decoder_op = decoder(encoder_op)\n",
    "\n",
    "# Prediction\n",
    "y_pred = decoder_op\n",
    "# Targets (Labels) are the input data.\n",
    "y_true = X\n",
    "#Define loss and optimizer, minimize the squared error\n",
    "loss = tf.reduce_mean(tf.pow(y_true- y_pred,2),name = 'loss')\n",
    "#loss = tf.reduce_mean(tf.nn.sigmoid_cross_entropy_with_logits(labels=y_true, logits=y_pred))\n",
    "optimizer = tf.train.AdamOptimizer(learning_rate).minimize(loss)\n",
    "saver = tf.train.Saver()\n",
    "check_available_gpus()\n",
    "sess = tf.Session(config=tf.ConfigProto(log_device_placement=True))"
   ]
  },
  {
   "cell_type": "code",
   "execution_count": 83,
   "metadata": {},
   "outputs": [
    {
     "name": "stdout",
     "output_type": "stream",
     "text": [
      "INFO:tensorflow:Restoring parameters from tmpnn/model.ckpt\n"
     ]
    },
    {
     "name": "stderr",
     "output_type": "stream",
     "text": [
      " 50%|█████     | 6/12 [00:00<00:03,  1.88it/s]"
     ]
    },
    {
     "name": "stdout",
     "output_type": "stream",
     "text": [
      "Global Step=0, Local batch=0, lose=1695.0353\n",
      "Global Step=0, Local batch=1, lose=1711.2780\n",
      "Global Step=0, Local batch=2, lose=1733.2722\n",
      "Global Step=0, Local batch=3, lose=1733.5719\n",
      "Global Step=0, Local batch=4, lose=1738.7422\n",
      "Global Step=0, Local batch=5, lose=1724.7974\n",
      "Global Step=0, Local batch=6, lose=1722.5214\n",
      "Global Step=0, Local batch=7, lose=1743.2502\n",
      "Global Step=0, Local batch=8, lose=1732.9133\n",
      "Global Step=0, Local batch=9, lose=1784.8668\n"
     ]
    },
    {
     "name": "stderr",
     "output_type": "stream",
     "text": [
      "100%|██████████| 12/12 [00:00<00:00, 12.15it/s]\n",
      " 50%|█████     | 6/12 [00:00<00:00, 53.32it/s]"
     ]
    },
    {
     "name": "stdout",
     "output_type": "stream",
     "text": [
      "Global Step=0, Local batch=10, lose=1704.7642\n",
      "Global Step=0, Local batch=11, lose=1712.7388\n",
      "Global Step=1, Local batch=0, lose=1700.7657\n",
      "Global Step=1, Local batch=1, lose=1706.4130\n",
      "Global Step=1, Local batch=2, lose=1733.9415\n",
      "Global Step=1, Local batch=3, lose=1726.8740\n",
      "Global Step=1, Local batch=4, lose=1727.2826\n",
      "Global Step=1, Local batch=5, lose=1721.6180\n",
      "Global Step=1, Local batch=6, lose=1713.7242\n",
      "Global Step=1, Local batch=7, lose=1733.5671\n",
      "Global Step=1, Local batch=8, lose=1734.9775\n",
      "Global Step=1, Local batch=9, lose=1779.0571\n"
     ]
    },
    {
     "name": "stderr",
     "output_type": "stream",
     "text": [
      "100%|██████████| 12/12 [00:00<00:00, 17.59it/s]\n",
      " 42%|████▏     | 5/12 [00:00<00:00, 47.54it/s]"
     ]
    },
    {
     "name": "stdout",
     "output_type": "stream",
     "text": [
      "Global Step=1, Local batch=10, lose=1694.5496\n",
      "Global Step=1, Local batch=11, lose=1704.8296\n",
      "Global Step=2, Local batch=0, lose=1696.1646\n",
      "Global Step=2, Local batch=1, lose=1700.1674\n",
      "Global Step=2, Local batch=2, lose=1727.1796\n",
      "Global Step=2, Local batch=3, lose=1722.9838\n",
      "Global Step=2, Local batch=4, lose=1728.7163\n",
      "Global Step=2, Local batch=5, lose=1715.5806\n",
      "Global Step=2, Local batch=6, lose=1713.7791\n",
      "Global Step=2, Local batch=7, lose=1733.2426\n"
     ]
    },
    {
     "name": "stderr",
     "output_type": "stream",
     "text": [
      "100%|██████████| 12/12 [00:00<00:00, 48.26it/s]\n",
      "  0%|          | 0/12 [00:00<?, ?it/s]"
     ]
    },
    {
     "name": "stdout",
     "output_type": "stream",
     "text": [
      "Global Step=2, Local batch=8, lose=1717.1332\n",
      "Global Step=2, Local batch=9, lose=1773.3977\n",
      "Global Step=2, Local batch=10, lose=1702.7623\n",
      "Global Step=2, Local batch=11, lose=1696.8282\n"
     ]
    },
    {
     "name": "stderr",
     "output_type": "stream",
     "text": [
      " 58%|█████▊    | 7/12 [00:00<00:01,  3.02it/s]"
     ]
    },
    {
     "name": "stdout",
     "output_type": "stream",
     "text": [
      "Global Step=3, Local batch=0, lose=1687.0587\n",
      "Global Step=3, Local batch=1, lose=1698.6498\n",
      "Global Step=3, Local batch=2, lose=1722.9456\n",
      "Global Step=3, Local batch=3, lose=1726.3204\n",
      "Global Step=3, Local batch=4, lose=1732.7839\n",
      "Global Step=3, Local batch=5, lose=1716.6943\n",
      "Global Step=3, Local batch=6, lose=1713.2759\n",
      "Global Step=3, Local batch=7, lose=1724.0273\n",
      "Global Step=3, Local batch=8, lose=1716.4742\n",
      "Global Step=3, Local batch=9, lose=1774.5483\n",
      "Global Step=3, Local batch=10, lose=1697.7123\n"
     ]
    },
    {
     "name": "stderr",
     "output_type": "stream",
     "text": [
      "100%|██████████| 12/12 [00:00<00:00, 17.95it/s]\n",
      "  0%|          | 0/12 [00:00<?, ?it/s]"
     ]
    },
    {
     "name": "stdout",
     "output_type": "stream",
     "text": [
      "Global Step=3, Local batch=11, lose=1695.5685\n"
     ]
    },
    {
     "name": "stderr",
     "output_type": "stream",
     "text": [
      " 58%|█████▊    | 7/12 [00:00<00:01,  2.79it/s]"
     ]
    },
    {
     "name": "stdout",
     "output_type": "stream",
     "text": [
      "Global Step=4, Local batch=0, lose=1680.9452\n",
      "Global Step=4, Local batch=1, lose=1692.9368\n",
      "Global Step=4, Local batch=2, lose=1732.4800\n",
      "Global Step=4, Local batch=3, lose=1730.4572\n",
      "Global Step=4, Local batch=4, lose=1722.1992\n",
      "Global Step=4, Local batch=5, lose=1705.4050\n",
      "Global Step=4, Local batch=6, lose=1716.4568\n",
      "Global Step=4, Local batch=7, lose=1740.3984\n",
      "Global Step=4, Local batch=8, lose=1729.2914\n",
      "Global Step=4, Local batch=9, lose=1768.8379\n",
      "Global Step=4, Local batch=10, lose=1695.7717\n"
     ]
    },
    {
     "name": "stderr",
     "output_type": "stream",
     "text": [
      "100%|██████████| 12/12 [00:00<00:00,  3.89it/s]\n",
      " 50%|█████     | 6/12 [00:00<00:00, 55.23it/s]"
     ]
    },
    {
     "name": "stdout",
     "output_type": "stream",
     "text": [
      "Global Step=4, Local batch=11, lose=1703.3073\n",
      "Global Step=5, Local batch=0, lose=1696.1237\n",
      "Global Step=5, Local batch=1, lose=1707.0612\n",
      "Global Step=5, Local batch=2, lose=1716.0531\n",
      "Global Step=5, Local batch=3, lose=1717.4225\n",
      "Global Step=5, Local batch=4, lose=1719.8492\n",
      "Global Step=5, Local batch=5, lose=1704.0385\n",
      "Global Step=5, Local batch=6, lose=1702.2097\n",
      "Global Step=5, Local batch=7, lose=1727.8861\n",
      "Global Step=5, Local batch=8, lose=1711.0753\n",
      "Global Step=5, Local batch=9, lose=1758.6666\n"
     ]
    },
    {
     "name": "stderr",
     "output_type": "stream",
     "text": [
      "100%|██████████| 12/12 [00:00<00:00, 54.86it/s]\n",
      "  0%|          | 0/12 [00:00<?, ?it/s]"
     ]
    },
    {
     "name": "stdout",
     "output_type": "stream",
     "text": [
      "Global Step=5, Local batch=10, lose=1692.3088\n",
      "Global Step=5, Local batch=11, lose=1688.8029\n"
     ]
    },
    {
     "name": "stderr",
     "output_type": "stream",
     "text": [
      " 58%|█████▊    | 7/12 [00:00<00:01,  2.94it/s]"
     ]
    },
    {
     "name": "stdout",
     "output_type": "stream",
     "text": [
      "Global Step=6, Local batch=0, lose=1679.0944\n",
      "Global Step=6, Local batch=1, lose=1695.6895\n",
      "Global Step=6, Local batch=2, lose=1709.9188\n",
      "Global Step=6, Local batch=3, lose=1716.2190\n",
      "Global Step=6, Local batch=4, lose=1721.5752\n",
      "Global Step=6, Local batch=5, lose=1691.5771\n",
      "Global Step=6, Local batch=6, lose=1703.0227\n",
      "Global Step=6, Local batch=7, lose=1722.7207\n",
      "Global Step=6, Local batch=8, lose=1704.4886\n",
      "Global Step=6, Local batch=9, lose=1763.6287\n",
      "Global Step=6, Local batch=10, lose=1679.8318\n"
     ]
    },
    {
     "name": "stderr",
     "output_type": "stream",
     "text": [
      "100%|██████████| 12/12 [00:01<00:00,  3.71it/s]\n",
      " 50%|█████     | 6/12 [00:00<00:00, 54.42it/s]"
     ]
    },
    {
     "name": "stdout",
     "output_type": "stream",
     "text": [
      "Global Step=6, Local batch=11, lose=1677.9950\n",
      "Global Step=7, Local batch=0, lose=1685.9028\n",
      "Global Step=7, Local batch=1, lose=1685.8632\n",
      "Global Step=7, Local batch=2, lose=1709.6112\n",
      "Global Step=7, Local batch=3, lose=1716.0072\n",
      "Global Step=7, Local batch=4, lose=1700.2832\n",
      "Global Step=7, Local batch=5, lose=1694.4858\n",
      "Global Step=7, Local batch=6, lose=1701.8961\n",
      "Global Step=7, Local batch=7, lose=1704.9904\n",
      "Global Step=7, Local batch=8, lose=1707.8859\n",
      "Global Step=7, Local batch=9, lose=1753.7819\n"
     ]
    },
    {
     "name": "stderr",
     "output_type": "stream",
     "text": [
      "100%|██████████| 12/12 [00:00<00:00, 17.42it/s]\n",
      " 50%|█████     | 6/12 [00:00<00:00, 54.70it/s]"
     ]
    },
    {
     "name": "stdout",
     "output_type": "stream",
     "text": [
      "Global Step=7, Local batch=10, lose=1668.5482\n",
      "Global Step=7, Local batch=11, lose=1682.5837\n",
      "Global Step=8, Local batch=0, lose=1671.3770\n",
      "Global Step=8, Local batch=1, lose=1683.9957\n",
      "Global Step=8, Local batch=2, lose=1705.4996\n",
      "Global Step=8, Local batch=3, lose=1695.3398\n",
      "Global Step=8, Local batch=4, lose=1701.3105\n",
      "Global Step=8, Local batch=5, lose=1687.2213\n",
      "Global Step=8, Local batch=6, lose=1684.5216\n",
      "Global Step=8, Local batch=7, lose=1706.6298\n",
      "Global Step=8, Local batch=8, lose=1697.3898\n",
      "Global Step=8, Local batch=9, lose=1743.7205\n"
     ]
    },
    {
     "name": "stderr",
     "output_type": "stream",
     "text": [
      "100%|██████████| 12/12 [00:00<00:00, 17.98it/s]\n",
      " 50%|█████     | 6/12 [00:00<00:00, 54.98it/s]"
     ]
    },
    {
     "name": "stdout",
     "output_type": "stream",
     "text": [
      "Global Step=8, Local batch=10, lose=1667.8159\n",
      "Global Step=8, Local batch=11, lose=1674.9556\n",
      "Global Step=9, Local batch=0, lose=1671.3428\n",
      "Global Step=9, Local batch=1, lose=1680.1609\n",
      "Global Step=9, Local batch=2, lose=1693.8394\n",
      "Global Step=9, Local batch=3, lose=1695.0195\n",
      "Global Step=9, Local batch=4, lose=1696.2314\n",
      "Global Step=9, Local batch=5, lose=1683.9656\n",
      "Global Step=9, Local batch=6, lose=1685.4794\n",
      "Global Step=9, Local batch=7, lose=1697.5189\n",
      "Global Step=9, Local batch=8, lose=1694.4048\n",
      "Global Step=9, Local batch=9, lose=1744.6671\n"
     ]
    },
    {
     "name": "stderr",
     "output_type": "stream",
     "text": [
      "100%|██████████| 12/12 [00:00<00:00, 17.73it/s]\n",
      " 50%|█████     | 6/12 [00:00<00:00, 55.62it/s]"
     ]
    },
    {
     "name": "stdout",
     "output_type": "stream",
     "text": [
      "Global Step=9, Local batch=10, lose=1661.8186\n",
      "Global Step=9, Local batch=11, lose=1669.0177\n",
      "Global Step=10, Local batch=0, lose=1663.9139\n",
      "Global Step=10, Local batch=1, lose=1674.0681\n",
      "Global Step=10, Local batch=2, lose=1694.2327\n",
      "Global Step=10, Local batch=3, lose=1693.7100\n",
      "Global Step=10, Local batch=4, lose=1700.7896\n",
      "Global Step=10, Local batch=5, lose=1681.8719\n",
      "Global Step=10, Local batch=6, lose=1680.9501\n",
      "Global Step=10, Local batch=7, lose=1697.7271\n",
      "Global Step=10, Local batch=8, lose=1698.4803\n"
     ]
    },
    {
     "name": "stderr",
     "output_type": "stream",
     "text": [
      "100%|██████████| 12/12 [00:00<00:00, 55.22it/s]\n",
      "  0%|          | 0/12 [00:00<?, ?it/s]"
     ]
    },
    {
     "name": "stdout",
     "output_type": "stream",
     "text": [
      "Global Step=10, Local batch=9, lose=1754.9180\n",
      "Global Step=10, Local batch=10, lose=1673.0007\n",
      "Global Step=10, Local batch=11, lose=1664.5577\n"
     ]
    },
    {
     "name": "stderr",
     "output_type": "stream",
     "text": [
      "100%|██████████| 12/12 [00:00<00:00, 17.01it/s]"
     ]
    },
    {
     "name": "stdout",
     "output_type": "stream",
     "text": [
      "Global Step=11, Local batch=0, lose=1655.4292\n",
      "Global Step=11, Local batch=1, lose=1674.5331\n",
      "Global Step=11, Local batch=2, lose=1696.5353\n",
      "Global Step=11, Local batch=3, lose=1692.8990\n",
      "Global Step=11, Local batch=4, lose=1694.1078\n",
      "Global Step=11, Local batch=5, lose=1677.4911\n",
      "Global Step=11, Local batch=6, lose=1683.0250\n",
      "Global Step=11, Local batch=7, lose=1703.1323\n",
      "Global Step=11, Local batch=8, lose=1696.0237\n",
      "Global Step=11, Local batch=9, lose=1732.9200\n",
      "Global Step=11, Local batch=10, lose=1659.4387\n",
      "Global Step=11, Local batch=11, lose=1673.2461\n"
     ]
    },
    {
     "name": "stderr",
     "output_type": "stream",
     "text": [
      "\n",
      "100%|██████████| 12/12 [00:00<00:00, 54.85it/s]\n",
      "  0%|          | 0/12 [00:00<?, ?it/s]"
     ]
    },
    {
     "name": "stdout",
     "output_type": "stream",
     "text": [
      "Global Step=12, Local batch=0, lose=1657.3591\n",
      "Global Step=12, Local batch=1, lose=1667.0989\n",
      "Global Step=12, Local batch=2, lose=1686.9421\n",
      "Global Step=12, Local batch=3, lose=1686.9841\n",
      "Global Step=12, Local batch=4, lose=1693.8501\n",
      "Global Step=12, Local batch=5, lose=1674.2421\n",
      "Global Step=12, Local batch=6, lose=1674.8907\n",
      "Global Step=12, Local batch=7, lose=1696.7163\n",
      "Global Step=12, Local batch=8, lose=1682.8881\n",
      "Global Step=12, Local batch=9, lose=1733.0953\n",
      "Global Step=12, Local batch=10, lose=1664.1296\n",
      "Global Step=12, Local batch=11, lose=1663.5074\n"
     ]
    },
    {
     "name": "stderr",
     "output_type": "stream",
     "text": [
      " 58%|█████▊    | 7/12 [00:00<00:01,  2.88it/s]"
     ]
    },
    {
     "name": "stdout",
     "output_type": "stream",
     "text": [
      "Global Step=13, Local batch=0, lose=1652.8914\n",
      "Global Step=13, Local batch=1, lose=1668.9315\n",
      "Global Step=13, Local batch=2, lose=1690.8685\n",
      "Global Step=13, Local batch=3, lose=1696.4573\n",
      "Global Step=13, Local batch=4, lose=1698.7705\n",
      "Global Step=13, Local batch=5, lose=1669.3208\n",
      "Global Step=13, Local batch=6, lose=1670.1727\n",
      "Global Step=13, Local batch=7, lose=1700.8312\n",
      "Global Step=13, Local batch=8, lose=1683.5707\n",
      "Global Step=13, Local batch=9, lose=1730.5934\n",
      "Global Step=13, Local batch=10, lose=1659.3575\n"
     ]
    },
    {
     "name": "stderr",
     "output_type": "stream",
     "text": [
      "100%|██████████| 12/12 [00:00<00:00, 17.25it/s]\n",
      " 50%|█████     | 6/12 [00:00<00:00, 54.92it/s]"
     ]
    },
    {
     "name": "stdout",
     "output_type": "stream",
     "text": [
      "Global Step=13, Local batch=11, lose=1659.0374\n",
      "Global Step=14, Local batch=0, lose=1659.4719\n",
      "Global Step=14, Local batch=1, lose=1670.5815\n",
      "Global Step=14, Local batch=2, lose=1681.8313\n",
      "Global Step=14, Local batch=3, lose=1688.3726\n",
      "Global Step=14, Local batch=4, lose=1685.9965\n",
      "Global Step=14, Local batch=5, lose=1661.0596\n",
      "Global Step=14, Local batch=6, lose=1675.5828\n",
      "Global Step=14, Local batch=7, lose=1686.7444\n",
      "Global Step=14, Local batch=8, lose=1666.0863\n",
      "Global Step=14, Local batch=9, lose=1728.0031\n"
     ]
    },
    {
     "name": "stderr",
     "output_type": "stream",
     "text": [
      "100%|██████████| 12/12 [00:00<00:00, 18.41it/s]\n",
      "  0%|          | 0/12 [00:00<?, ?it/s]"
     ]
    },
    {
     "name": "stdout",
     "output_type": "stream",
     "text": [
      "Global Step=14, Local batch=10, lose=1650.4884\n",
      "Global Step=14, Local batch=11, lose=1652.3053\n"
     ]
    },
    {
     "name": "stderr",
     "output_type": "stream",
     "text": [
      " 58%|█████▊    | 7/12 [00:00<00:01,  2.72it/s]"
     ]
    },
    {
     "name": "stdout",
     "output_type": "stream",
     "text": [
      "Global Step=15, Local batch=0, lose=1646.8823\n",
      "Global Step=15, Local batch=1, lose=1651.4487\n",
      "Global Step=15, Local batch=2, lose=1682.4083\n",
      "Global Step=15, Local batch=3, lose=1685.6553\n",
      "Global Step=15, Local batch=4, lose=1689.7379\n",
      "Global Step=15, Local batch=5, lose=1679.1201\n",
      "Global Step=15, Local batch=6, lose=1675.2229\n",
      "Global Step=15, Local batch=7, lose=1684.1685\n",
      "Global Step=15, Local batch=8, lose=1672.7572\n",
      "Global Step=15, Local batch=9, lose=1725.7969\n",
      "Global Step=15, Local batch=10, lose=1649.7314\n",
      "Global Step=15, Local batch=11, lose=1648.0089\n"
     ]
    },
    {
     "name": "stderr",
     "output_type": "stream",
     "text": [
      "100%|██████████| 12/12 [00:00<00:00, 16.69it/s]\n",
      "100%|██████████| 12/12 [00:00<00:00, 17.68it/s]"
     ]
    },
    {
     "name": "stdout",
     "output_type": "stream",
     "text": [
      "Global Step=16, Local batch=0, lose=1639.4965\n",
      "Global Step=16, Local batch=1, lose=1659.6543\n",
      "Global Step=16, Local batch=2, lose=1675.0327\n",
      "Global Step=16, Local batch=3, lose=1669.3834\n",
      "Global Step=16, Local batch=4, lose=1679.4585\n",
      "Global Step=16, Local batch=5, lose=1666.6903\n",
      "Global Step=16, Local batch=6, lose=1675.8032\n",
      "Global Step=16, Local batch=7, lose=1681.1863\n",
      "Global Step=16, Local batch=8, lose=1657.9889\n",
      "Global Step=16, Local batch=9, lose=1718.7736\n",
      "Global Step=16, Local batch=10, lose=1654.2625\n",
      "Global Step=16, Local batch=11, lose=1644.7496\n"
     ]
    },
    {
     "name": "stderr",
     "output_type": "stream",
     "text": [
      "\n",
      " 58%|█████▊    | 7/12 [00:00<00:01,  2.60it/s]"
     ]
    },
    {
     "name": "stdout",
     "output_type": "stream",
     "text": [
      "Global Step=17, Local batch=0, lose=1630.6221\n",
      "Global Step=17, Local batch=1, lose=1648.0211\n",
      "Global Step=17, Local batch=2, lose=1672.1364\n",
      "Global Step=17, Local batch=3, lose=1675.2665\n",
      "Global Step=17, Local batch=4, lose=1680.4958\n",
      "Global Step=17, Local batch=5, lose=1657.6215\n",
      "Global Step=17, Local batch=6, lose=1656.1323\n",
      "Global Step=17, Local batch=7, lose=1674.2747\n",
      "Global Step=17, Local batch=8, lose=1666.9856\n",
      "Global Step=17, Local batch=9, lose=1721.2516\n",
      "Global Step=17, Local batch=10, lose=1641.7906\n"
     ]
    },
    {
     "name": "stderr",
     "output_type": "stream",
     "text": [
      "100%|██████████| 12/12 [00:00<00:00, 16.12it/s]\n",
      " 50%|█████     | 6/12 [00:00<00:00, 54.65it/s]"
     ]
    },
    {
     "name": "stdout",
     "output_type": "stream",
     "text": [
      "Global Step=17, Local batch=11, lose=1636.4429\n",
      "Global Step=18, Local batch=0, lose=1633.2467\n",
      "Global Step=18, Local batch=1, lose=1652.5999\n",
      "Global Step=18, Local batch=2, lose=1672.2561\n",
      "Global Step=18, Local batch=3, lose=1667.1993\n",
      "Global Step=18, Local batch=4, lose=1667.3630\n",
      "Global Step=18, Local batch=5, lose=1648.1044\n",
      "Global Step=18, Local batch=6, lose=1652.6228\n",
      "Global Step=18, Local batch=7, lose=1675.6584\n",
      "Global Step=18, Local batch=8, lose=1666.1494\n",
      "Global Step=18, Local batch=9, lose=1713.1201\n"
     ]
    },
    {
     "name": "stderr",
     "output_type": "stream",
     "text": [
      "100%|██████████| 12/12 [00:00<00:00, 54.69it/s]\n",
      " 50%|█████     | 6/12 [00:00<00:00, 54.87it/s]"
     ]
    },
    {
     "name": "stdout",
     "output_type": "stream",
     "text": [
      "Global Step=18, Local batch=10, lose=1633.2628\n",
      "Global Step=18, Local batch=11, lose=1635.9891\n",
      "Global Step=19, Local batch=0, lose=1633.2435\n",
      "Global Step=19, Local batch=1, lose=1647.1387\n",
      "Global Step=19, Local batch=2, lose=1667.1982\n",
      "Global Step=19, Local batch=3, lose=1660.4512\n",
      "Global Step=19, Local batch=4, lose=1659.9252\n",
      "Global Step=19, Local batch=5, lose=1644.0388\n",
      "Global Step=19, Local batch=6, lose=1647.2253\n",
      "Global Step=19, Local batch=7, lose=1667.8468\n",
      "Global Step=19, Local batch=8, lose=1657.2531\n",
      "Global Step=19, Local batch=9, lose=1705.9971\n",
      "Global Step=19, Local batch=10, lose=1633.9167\n"
     ]
    },
    {
     "name": "stderr",
     "output_type": "stream",
     "text": [
      "100%|██████████| 12/12 [00:00<00:00, 54.98it/s]\n",
      " 50%|█████     | 6/12 [00:00<00:00, 53.14it/s]"
     ]
    },
    {
     "name": "stdout",
     "output_type": "stream",
     "text": [
      "Global Step=19, Local batch=11, lose=1631.7427\n",
      "Global Step=20, Local batch=0, lose=1631.1997\n",
      "Global Step=20, Local batch=1, lose=1642.6323\n",
      "Global Step=20, Local batch=2, lose=1658.3739\n",
      "Global Step=20, Local batch=3, lose=1654.1187\n",
      "Global Step=20, Local batch=4, lose=1657.4684\n",
      "Global Step=20, Local batch=5, lose=1644.7225\n",
      "Global Step=20, Local batch=6, lose=1645.6085\n",
      "Global Step=20, Local batch=7, lose=1666.4062\n",
      "Global Step=20, Local batch=8, lose=1653.6115\n",
      "Global Step=20, Local batch=9, lose=1698.3820\n"
     ]
    },
    {
     "name": "stderr",
     "output_type": "stream",
     "text": [
      "100%|██████████| 12/12 [00:00<00:00, 53.34it/s]\n",
      "  0%|          | 0/12 [00:00<?, ?it/s]"
     ]
    },
    {
     "name": "stdout",
     "output_type": "stream",
     "text": [
      "Global Step=20, Local batch=10, lose=1631.7542\n",
      "Global Step=20, Local batch=11, lose=1632.9893\n"
     ]
    },
    {
     "name": "stderr",
     "output_type": "stream",
     "text": [
      " 58%|█████▊    | 7/12 [00:00<00:01,  2.73it/s]"
     ]
    },
    {
     "name": "stdout",
     "output_type": "stream",
     "text": [
      "Global Step=21, Local batch=0, lose=1627.2662\n",
      "Global Step=21, Local batch=1, lose=1641.5854\n",
      "Global Step=21, Local batch=2, lose=1662.8925\n",
      "Global Step=21, Local batch=3, lose=1663.3301\n",
      "Global Step=21, Local batch=4, lose=1668.6838\n",
      "Global Step=21, Local batch=5, lose=1649.2570\n",
      "Global Step=21, Local batch=6, lose=1643.1598\n",
      "Global Step=21, Local batch=7, lose=1661.6210\n",
      "Global Step=21, Local batch=8, lose=1656.0436\n",
      "Global Step=21, Local batch=9, lose=1709.6495\n",
      "Global Step=21, Local batch=10, lose=1638.4016\n"
     ]
    },
    {
     "name": "stderr",
     "output_type": "stream",
     "text": [
      "100%|██████████| 12/12 [00:01<00:00,  3.40it/s]\n",
      "  0%|          | 0/12 [00:00<?, ?it/s]"
     ]
    },
    {
     "name": "stdout",
     "output_type": "stream",
     "text": [
      "Global Step=21, Local batch=11, lose=1626.6721\n"
     ]
    },
    {
     "name": "stderr",
     "output_type": "stream",
     "text": [
      "100%|██████████| 12/12 [00:00<00:00, 15.63it/s]"
     ]
    },
    {
     "name": "stdout",
     "output_type": "stream",
     "text": [
      "Global Step=22, Local batch=0, lose=1616.3486\n",
      "Global Step=22, Local batch=1, lose=1640.3151\n",
      "Global Step=22, Local batch=2, lose=1666.6523\n",
      "Global Step=22, Local batch=3, lose=1663.6877\n",
      "Global Step=22, Local batch=4, lose=1667.1248\n",
      "Global Step=22, Local batch=5, lose=1647.6625\n",
      "Global Step=22, Local batch=6, lose=1642.8323\n",
      "Global Step=22, Local batch=7, lose=1660.2990\n",
      "Global Step=22, Local batch=8, lose=1652.7034\n",
      "Global Step=22, Local batch=9, lose=1699.8052\n",
      "Global Step=22, Local batch=10, lose=1629.3564\n",
      "Global Step=22, Local batch=11, lose=1624.2880\n"
     ]
    },
    {
     "name": "stderr",
     "output_type": "stream",
     "text": [
      "\n",
      "100%|██████████| 12/12 [00:00<00:00, 54.85it/s]"
     ]
    },
    {
     "name": "stdout",
     "output_type": "stream",
     "text": [
      "Global Step=23, Local batch=0, lose=1616.5188\n",
      "Global Step=23, Local batch=1, lose=1634.9180\n",
      "Global Step=23, Local batch=2, lose=1653.7927\n",
      "Global Step=23, Local batch=3, lose=1657.5604\n",
      "Global Step=23, Local batch=4, lose=1662.7743\n",
      "Global Step=23, Local batch=5, lose=1645.7487\n",
      "Global Step=23, Local batch=6, lose=1645.7284\n",
      "Global Step=23, Local batch=7, lose=1658.4803\n",
      "Global Step=23, Local batch=8, lose=1648.6826\n",
      "Global Step=23, Local batch=9, lose=1701.9503\n",
      "Global Step=23, Local batch=10, lose=1626.8541\n",
      "Global Step=23, Local batch=11, lose=1620.6981\n"
     ]
    },
    {
     "name": "stderr",
     "output_type": "stream",
     "text": [
      "\n",
      "100%|██████████| 12/12 [00:00<00:00, 54.74it/s]"
     ]
    },
    {
     "name": "stdout",
     "output_type": "stream",
     "text": [
      "Global Step=24, Local batch=0, lose=1618.5322\n",
      "Global Step=24, Local batch=1, lose=1632.3088\n",
      "Global Step=24, Local batch=2, lose=1661.1556\n",
      "Global Step=24, Local batch=3, lose=1664.6384\n",
      "Global Step=24, Local batch=4, lose=1660.9988\n",
      "Global Step=24, Local batch=5, lose=1643.9084\n",
      "Global Step=24, Local batch=6, lose=1642.1940\n",
      "Global Step=24, Local batch=7, lose=1659.9438\n",
      "Global Step=24, Local batch=8, lose=1657.2692\n",
      "Global Step=24, Local batch=9, lose=1697.3065\n",
      "Global Step=24, Local batch=10, lose=1623.2642\n",
      "Global Step=24, Local batch=11, lose=1633.4694\n"
     ]
    },
    {
     "name": "stderr",
     "output_type": "stream",
     "text": [
      "\n",
      "100%|██████████| 12/12 [00:00<00:00, 55.53it/s]\n",
      "  0%|          | 0/12 [00:00<?, ?it/s]"
     ]
    },
    {
     "name": "stdout",
     "output_type": "stream",
     "text": [
      "Global Step=25, Local batch=0, lose=1636.5518\n",
      "Global Step=25, Local batch=1, lose=1648.3600\n",
      "Global Step=25, Local batch=2, lose=1659.0393\n",
      "Global Step=25, Local batch=3, lose=1654.3877\n",
      "Global Step=25, Local batch=4, lose=1655.4365\n",
      "Global Step=25, Local batch=5, lose=1638.7289\n",
      "Global Step=25, Local batch=6, lose=1632.1027\n",
      "Global Step=25, Local batch=7, lose=1662.2239\n",
      "Global Step=25, Local batch=8, lose=1656.3865\n",
      "Global Step=25, Local batch=9, lose=1699.1152\n",
      "Global Step=25, Local batch=10, lose=1618.8931\n",
      "Global Step=25, Local batch=11, lose=1619.8865\n"
     ]
    },
    {
     "name": "stderr",
     "output_type": "stream",
     "text": [
      "\r",
      " 50%|█████     | 6/12 [00:00<00:00, 54.91it/s]"
     ]
    },
    {
     "name": "stdout",
     "output_type": "stream",
     "text": [
      "Global Step=26, Local batch=0, lose=1624.6105\n",
      "Global Step=26, Local batch=1, lose=1633.3644\n",
      "Global Step=26, Local batch=2, lose=1638.7065\n",
      "Global Step=26, Local batch=3, lose=1638.3435\n",
      "Global Step=26, Local batch=4, lose=1641.4596\n",
      "Global Step=26, Local batch=5, lose=1625.3141\n",
      "Global Step=26, Local batch=6, lose=1628.1312\n",
      "Global Step=26, Local batch=7, lose=1647.1774\n",
      "Global Step=26, Local batch=8, lose=1633.6989\n",
      "Global Step=26, Local batch=9, lose=1682.6388\n"
     ]
    },
    {
     "name": "stderr",
     "output_type": "stream",
     "text": [
      "100%|██████████| 12/12 [00:00<00:00, 18.43it/s]\n",
      " 50%|█████     | 6/12 [00:00<00:00, 55.14it/s]"
     ]
    },
    {
     "name": "stdout",
     "output_type": "stream",
     "text": [
      "Global Step=26, Local batch=10, lose=1612.0591\n",
      "Global Step=26, Local batch=11, lose=1623.4720\n",
      "Global Step=27, Local batch=0, lose=1620.5653\n",
      "Global Step=27, Local batch=1, lose=1616.6569\n",
      "Global Step=27, Local batch=2, lose=1633.4016\n",
      "Global Step=27, Local batch=3, lose=1635.9384\n",
      "Global Step=27, Local batch=4, lose=1634.2821\n",
      "Global Step=27, Local batch=5, lose=1619.7899\n",
      "Global Step=27, Local batch=6, lose=1625.8683\n",
      "Global Step=27, Local batch=7, lose=1637.7827\n",
      "Global Step=27, Local batch=8, lose=1627.5283\n",
      "Global Step=27, Local batch=9, lose=1678.9933\n"
     ]
    },
    {
     "name": "stderr",
     "output_type": "stream",
     "text": [
      "100%|██████████| 12/12 [00:00<00:00, 18.76it/s]\n",
      " 50%|█████     | 6/12 [00:00<00:00, 55.55it/s]"
     ]
    },
    {
     "name": "stdout",
     "output_type": "stream",
     "text": [
      "Global Step=27, Local batch=10, lose=1600.7238\n",
      "Global Step=27, Local batch=11, lose=1605.7650\n",
      "Global Step=28, Local batch=0, lose=1602.7976\n",
      "Global Step=28, Local batch=1, lose=1612.0981\n",
      "Global Step=28, Local batch=2, lose=1630.3770\n",
      "Global Step=28, Local batch=3, lose=1630.6155\n",
      "Global Step=28, Local batch=4, lose=1633.5337\n",
      "Global Step=28, Local batch=5, lose=1622.9937\n",
      "Global Step=28, Local batch=6, lose=1622.2059\n",
      "Global Step=28, Local batch=7, lose=1631.3169\n",
      "Global Step=28, Local batch=8, lose=1625.5004\n",
      "Global Step=28, Local batch=9, lose=1679.3547\n",
      "Global Step=28, Local batch=10, lose=1602.7025\n"
     ]
    },
    {
     "name": "stderr",
     "output_type": "stream",
     "text": [
      "100%|██████████| 12/12 [00:00<00:00, 24.09it/s]\n",
      "  0%|          | 0/12 [00:00<?, ?it/s]"
     ]
    },
    {
     "name": "stdout",
     "output_type": "stream",
     "text": [
      "Global Step=28, Local batch=11, lose=1600.1990\n"
     ]
    },
    {
     "name": "stderr",
     "output_type": "stream",
     "text": [
      " 58%|█████▊    | 7/12 [00:00<00:01,  2.88it/s]"
     ]
    },
    {
     "name": "stdout",
     "output_type": "stream",
     "text": [
      "Global Step=29, Local batch=0, lose=1596.2444\n",
      "Global Step=29, Local batch=1, lose=1615.0793\n",
      "Global Step=29, Local batch=2, lose=1631.0934\n",
      "Global Step=29, Local batch=3, lose=1629.0974\n",
      "Global Step=29, Local batch=4, lose=1631.0864\n",
      "Global Step=29, Local batch=5, lose=1614.5275\n",
      "Global Step=29, Local batch=6, lose=1611.1346\n",
      "Global Step=29, Local batch=7, lose=1634.6761\n",
      "Global Step=29, Local batch=8, lose=1632.8201\n",
      "Global Step=29, Local batch=9, lose=1682.9561\n",
      "Global Step=29, Local batch=10, lose=1604.2462\n"
     ]
    },
    {
     "name": "stderr",
     "output_type": "stream",
     "text": [
      "100%|██████████| 12/12 [00:00<00:00, 17.36it/s]\n",
      "  0%|          | 0/12 [00:00<?, ?it/s]"
     ]
    },
    {
     "name": "stdout",
     "output_type": "stream",
     "text": [
      "Global Step=29, Local batch=11, lose=1600.2577\n"
     ]
    },
    {
     "name": "stderr",
     "output_type": "stream",
     "text": [
      " 58%|█████▊    | 7/12 [00:00<00:01,  2.79it/s]"
     ]
    },
    {
     "name": "stdout",
     "output_type": "stream",
     "text": [
      "Global Step=30, Local batch=0, lose=1591.8177\n",
      "Global Step=30, Local batch=1, lose=1607.6992\n",
      "Global Step=30, Local batch=2, lose=1630.5465\n",
      "Global Step=30, Local batch=3, lose=1631.9553\n",
      "Global Step=30, Local batch=4, lose=1637.1823\n",
      "Global Step=30, Local batch=5, lose=1623.8724\n",
      "Global Step=30, Local batch=6, lose=1616.8585\n",
      "Global Step=30, Local batch=7, lose=1632.8418\n",
      "Global Step=30, Local batch=8, lose=1631.7683\n",
      "Global Step=30, Local batch=9, lose=1680.3093\n",
      "Global Step=30, Local batch=10, lose=1597.9500\n"
     ]
    },
    {
     "name": "stderr",
     "output_type": "stream",
     "text": [
      "100%|██████████| 12/12 [00:00<00:00, 17.01it/s]\n",
      " 50%|█████     | 6/12 [00:00<00:00, 54.81it/s]"
     ]
    },
    {
     "name": "stdout",
     "output_type": "stream",
     "text": [
      "Global Step=30, Local batch=11, lose=1594.3459\n",
      "Global Step=31, Local batch=0, lose=1599.5603\n",
      "Global Step=31, Local batch=1, lose=1619.9755\n",
      "Global Step=31, Local batch=2, lose=1635.0215\n",
      "Global Step=31, Local batch=3, lose=1623.5718\n",
      "Global Step=31, Local batch=4, lose=1620.5533\n",
      "Global Step=31, Local batch=5, lose=1607.5374\n",
      "Global Step=31, Local batch=6, lose=1613.6807\n",
      "Global Step=31, Local batch=7, lose=1639.0277\n",
      "Global Step=31, Local batch=8, lose=1626.9545\n",
      "Global Step=31, Local batch=9, lose=1664.4828\n",
      "Global Step=31, Local batch=10, lose=1595.7549\n"
     ]
    },
    {
     "name": "stderr",
     "output_type": "stream",
     "text": [
      "100%|██████████| 12/12 [00:00<00:00, 55.08it/s]\n",
      " 50%|█████     | 6/12 [00:00<00:00, 53.61it/s]"
     ]
    },
    {
     "name": "stdout",
     "output_type": "stream",
     "text": [
      "Global Step=31, Local batch=11, lose=1613.0736\n",
      "Global Step=32, Local batch=0, lose=1607.9813\n",
      "Global Step=32, Local batch=1, lose=1602.8593\n",
      "Global Step=32, Local batch=2, lose=1616.5558\n",
      "Global Step=32, Local batch=3, lose=1624.8466\n",
      "Global Step=32, Local batch=4, lose=1627.5990\n",
      "Global Step=32, Local batch=5, lose=1607.1201\n",
      "Global Step=32, Local batch=6, lose=1607.7585\n",
      "Global Step=32, Local batch=7, lose=1620.7220\n",
      "Global Step=32, Local batch=8, lose=1613.0265\n",
      "Global Step=32, Local batch=9, lose=1665.4983\n"
     ]
    },
    {
     "name": "stderr",
     "output_type": "stream",
     "text": [
      "100%|██████████| 12/12 [00:00<00:00, 53.82it/s]\n",
      "  0%|          | 0/12 [00:00<?, ?it/s]"
     ]
    },
    {
     "name": "stdout",
     "output_type": "stream",
     "text": [
      "Global Step=32, Local batch=10, lose=1593.2811\n",
      "Global Step=32, Local batch=11, lose=1591.9807\n"
     ]
    },
    {
     "name": "stderr",
     "output_type": "stream",
     "text": [
      "100%|██████████| 12/12 [00:00<00:00, 17.78it/s]"
     ]
    },
    {
     "name": "stdout",
     "output_type": "stream",
     "text": [
      "Global Step=33, Local batch=0, lose=1582.2816\n",
      "Global Step=33, Local batch=1, lose=1593.4210\n",
      "Global Step=33, Local batch=2, lose=1614.7012\n",
      "Global Step=33, Local batch=3, lose=1621.9497\n",
      "Global Step=33, Local batch=4, lose=1617.9658\n",
      "Global Step=33, Local batch=5, lose=1604.4879\n",
      "Global Step=33, Local batch=6, lose=1608.9647\n",
      "Global Step=33, Local batch=7, lose=1621.0208\n",
      "Global Step=33, Local batch=8, lose=1616.2574\n",
      "Global Step=33, Local batch=9, lose=1664.9572\n",
      "Global Step=33, Local batch=10, lose=1591.6422\n",
      "Global Step=33, Local batch=11, lose=1588.8508\n"
     ]
    },
    {
     "name": "stderr",
     "output_type": "stream",
     "text": [
      "\n",
      "100%|██████████| 12/12 [00:00<00:00, 18.91it/s]\n",
      "  0%|          | 0/12 [00:00<?, ?it/s]"
     ]
    },
    {
     "name": "stdout",
     "output_type": "stream",
     "text": [
      "Global Step=34, Local batch=0, lose=1580.6888\n",
      "Global Step=34, Local batch=1, lose=1593.2015\n",
      "Global Step=34, Local batch=2, lose=1611.9122\n",
      "Global Step=34, Local batch=3, lose=1613.7343\n",
      "Global Step=34, Local batch=4, lose=1614.1416\n",
      "Global Step=34, Local batch=5, lose=1597.7203\n",
      "Global Step=34, Local batch=6, lose=1600.5461\n",
      "Global Step=34, Local batch=7, lose=1617.8807\n",
      "Global Step=34, Local batch=8, lose=1616.6547\n",
      "Global Step=34, Local batch=9, lose=1663.2227\n",
      "Global Step=34, Local batch=10, lose=1581.7220\n",
      "Global Step=34, Local batch=11, lose=1581.0171\n"
     ]
    },
    {
     "name": "stderr",
     "output_type": "stream",
     "text": [
      "\r",
      " 50%|█████     | 6/12 [00:00<00:00, 55.31it/s]"
     ]
    },
    {
     "name": "stdout",
     "output_type": "stream",
     "text": [
      "Global Step=35, Local batch=0, lose=1582.1915\n",
      "Global Step=35, Local batch=1, lose=1594.0739\n",
      "Global Step=35, Local batch=2, lose=1607.5068\n",
      "Global Step=35, Local batch=3, lose=1604.8419\n",
      "Global Step=35, Local batch=4, lose=1605.4823\n",
      "Global Step=35, Local batch=5, lose=1599.3466\n",
      "Global Step=35, Local batch=6, lose=1607.7417\n",
      "Global Step=35, Local batch=7, lose=1619.2390\n",
      "Global Step=35, Local batch=8, lose=1605.1201\n",
      "Global Step=35, Local batch=9, lose=1651.4698\n"
     ]
    },
    {
     "name": "stderr",
     "output_type": "stream",
     "text": [
      "100%|██████████| 12/12 [00:00<00:00, 18.68it/s]\n",
      " 50%|█████     | 6/12 [00:00<00:00, 54.49it/s]"
     ]
    },
    {
     "name": "stdout",
     "output_type": "stream",
     "text": [
      "Global Step=35, Local batch=10, lose=1580.5027\n",
      "Global Step=35, Local batch=11, lose=1582.6957\n",
      "Global Step=36, Local batch=0, lose=1582.9769\n",
      "Global Step=36, Local batch=1, lose=1588.6147\n",
      "Global Step=36, Local batch=2, lose=1603.9946\n",
      "Global Step=36, Local batch=3, lose=1605.2581\n",
      "Global Step=36, Local batch=4, lose=1604.9196\n",
      "Global Step=36, Local batch=5, lose=1596.2738\n",
      "Global Step=36, Local batch=6, lose=1606.2415\n",
      "Global Step=36, Local batch=7, lose=1615.9600\n",
      "Global Step=36, Local batch=8, lose=1600.9856\n",
      "Global Step=36, Local batch=9, lose=1648.7773\n"
     ]
    },
    {
     "name": "stderr",
     "output_type": "stream",
     "text": [
      "100%|██████████| 12/12 [00:00<00:00, 16.06it/s]\n",
      "  0%|          | 0/12 [00:00<?, ?it/s]"
     ]
    },
    {
     "name": "stdout",
     "output_type": "stream",
     "text": [
      "Global Step=36, Local batch=10, lose=1579.3817\n",
      "Global Step=36, Local batch=11, lose=1582.0459\n"
     ]
    },
    {
     "name": "stderr",
     "output_type": "stream",
     "text": [
      " 58%|█████▊    | 7/12 [00:00<00:01,  3.06it/s]"
     ]
    },
    {
     "name": "stdout",
     "output_type": "stream",
     "text": [
      "Global Step=37, Local batch=0, lose=1577.9254\n",
      "Global Step=37, Local batch=1, lose=1583.8727\n",
      "Global Step=37, Local batch=2, lose=1603.4189\n",
      "Global Step=37, Local batch=3, lose=1602.4224\n",
      "Global Step=37, Local batch=4, lose=1610.1198\n",
      "Global Step=37, Local batch=5, lose=1610.1372\n",
      "Global Step=37, Local batch=6, lose=1625.2631\n",
      "Global Step=37, Local batch=7, lose=1622.0067\n",
      "Global Step=37, Local batch=8, lose=1601.4247\n",
      "Global Step=37, Local batch=9, lose=1653.0315\n",
      "Global Step=37, Local batch=10, lose=1589.9814\n"
     ]
    },
    {
     "name": "stderr",
     "output_type": "stream",
     "text": [
      "100%|██████████| 12/12 [00:00<00:00,  4.25it/s]\n",
      "  0%|          | 0/12 [00:00<?, ?it/s]"
     ]
    },
    {
     "name": "stdout",
     "output_type": "stream",
     "text": [
      "Global Step=37, Local batch=11, lose=1590.3473\n"
     ]
    },
    {
     "name": "stderr",
     "output_type": "stream",
     "text": [
      " 50%|█████     | 6/12 [00:00<00:02,  2.53it/s]"
     ]
    },
    {
     "name": "stdout",
     "output_type": "stream",
     "text": [
      "Global Step=38, Local batch=0, lose=1577.2910\n",
      "Global Step=38, Local batch=1, lose=1583.0234\n",
      "Global Step=38, Local batch=2, lose=1612.1219\n",
      "Global Step=38, Local batch=3, lose=1625.0747\n",
      "Global Step=38, Local batch=4, lose=1614.6550\n",
      "Global Step=38, Local batch=5, lose=1591.5261\n",
      "Global Step=38, Local batch=6, lose=1592.1338\n",
      "Global Step=38, Local batch=7, lose=1615.0659\n",
      "Global Step=38, Local batch=8, lose=1615.5283\n",
      "Global Step=38, Local batch=9, lose=1654.4849\n"
     ]
    },
    {
     "name": "stderr",
     "output_type": "stream",
     "text": [
      "\r",
      " 92%|█████████▏| 11/12 [00:01<00:00,  3.23it/s]"
     ]
    },
    {
     "name": "stdout",
     "output_type": "stream",
     "text": [
      "Global Step=38, Local batch=10, lose=1576.4983\n"
     ]
    },
    {
     "name": "stderr",
     "output_type": "stream",
     "text": [
      "100%|██████████| 12/12 [00:01<00:00,  7.22it/s]\n",
      "  0%|          | 0/12 [00:00<?, ?it/s]"
     ]
    },
    {
     "name": "stdout",
     "output_type": "stream",
     "text": [
      "Global Step=38, Local batch=11, lose=1575.6924\n"
     ]
    },
    {
     "name": "stderr",
     "output_type": "stream",
     "text": [
      " 58%|█████▊    | 7/12 [00:00<00:01,  3.00it/s]"
     ]
    },
    {
     "name": "stdout",
     "output_type": "stream",
     "text": [
      "Global Step=39, Local batch=0, lose=1573.1053\n",
      "Global Step=39, Local batch=1, lose=1585.6573\n",
      "Global Step=39, Local batch=2, lose=1597.9255\n",
      "Global Step=39, Local batch=3, lose=1593.3154\n",
      "Global Step=39, Local batch=4, lose=1590.5841\n",
      "Global Step=39, Local batch=5, lose=1588.5830\n",
      "Global Step=39, Local batch=6, lose=1590.1224\n",
      "Global Step=39, Local batch=7, lose=1604.4999\n",
      "Global Step=39, Local batch=8, lose=1591.8671\n",
      "Global Step=39, Local batch=9, lose=1640.9312\n",
      "Global Step=39, Local batch=10, lose=1576.8514\n"
     ]
    },
    {
     "name": "stderr",
     "output_type": "stream",
     "text": [
      "\r",
      "100%|██████████| 12/12 [00:01<00:00,  3.78it/s]"
     ]
    },
    {
     "name": "stdout",
     "output_type": "stream",
     "text": [
      "Global Step=39, Local batch=11, lose=1569.6067\n"
     ]
    },
    {
     "name": "stderr",
     "output_type": "stream",
     "text": [
      "\n"
     ]
    }
   ],
   "source": [
    "if not os.path.exists('tmpnn/'):\n",
    "    os.mkdir('tmpnn/')\n",
    "with tf.Session() as sess:\n",
    "    if os.path.exists('tmpnn/checkpoint'):\n",
    "        saver.restore(sess, 'tmpnn/model.ckpt')\n",
    "    else:\n",
    "        sess.run(tf.global_variables_initializer())\n",
    "    total_batch  = int(len(train_images)/batch_size)\n",
    "    min_lose = float('inf')\n",
    "    for e in range(train_epochs):    \n",
    "        for b in tqdm(range(total_batch)):\n",
    "            batch = train_images[b*batch_size:(b+1)*batch_size]\n",
    "            imgs = batch.reshape((-1,28,28,1))\n",
    "            batch_cost, _=sess.run([loss, optimizer],feed_dict={X:batch})\n",
    "            msg = \"Global Step={:d}, Local batch={:d}, lose={:.4f}\"\n",
    "            if(batch_cost<min_lose):\n",
    "                min_lose = batch_cost\n",
    "                saver.save(sess, 'tmpnn/model.ckpt')\n",
    "            print(msg.format(e,b,batch_cost))\n",
    "    "
   ]
  },
  {
   "cell_type": "code",
   "execution_count": 84,
   "metadata": {},
   "outputs": [
    {
     "name": "stdout",
     "output_type": "stream",
     "text": [
      "INFO:tensorflow:Restoring parameters from tmpnn/model.ckpt\n"
     ]
    },
    {
     "name": "stderr",
     "output_type": "stream",
     "text": [
      "  0%|          | 0/2 [00:00<?, ?it/s]\n"
     ]
    },
    {
     "ename": "NameError",
     "evalue": "name 'input_x' is not defined",
     "output_type": "error",
     "traceback": [
      "\u001b[0;31m---------------------------------------------------------------------------\u001b[0m",
      "\u001b[0;31mNameError\u001b[0m                                 Traceback (most recent call last)",
      "\u001b[0;32m<ipython-input-84-fb3b0beab950>\u001b[0m in \u001b[0;36m<module>\u001b[0;34m\u001b[0m\n\u001b[1;32m      9\u001b[0m             \u001b[0mbatch\u001b[0m \u001b[0;34m=\u001b[0m \u001b[0mtest_images\u001b[0m\u001b[0;34m[\u001b[0m\u001b[0mb\u001b[0m\u001b[0;34m*\u001b[0m\u001b[0mbatch_size\u001b[0m\u001b[0;34m:\u001b[0m\u001b[0;34m(\u001b[0m\u001b[0mb\u001b[0m\u001b[0;34m+\u001b[0m\u001b[0;36m1\u001b[0m\u001b[0;34m)\u001b[0m\u001b[0;34m*\u001b[0m\u001b[0mbatch_size\u001b[0m\u001b[0;34m]\u001b[0m\u001b[0;34m\u001b[0m\u001b[0m\n\u001b[1;32m     10\u001b[0m             \u001b[0mimgs\u001b[0m \u001b[0;34m=\u001b[0m \u001b[0mbatch\u001b[0m\u001b[0;34m.\u001b[0m\u001b[0mreshape\u001b[0m\u001b[0;34m(\u001b[0m\u001b[0;34m(\u001b[0m\u001b[0;34m-\u001b[0m\u001b[0;36m1\u001b[0m\u001b[0;34m,\u001b[0m\u001b[0;36m28\u001b[0m\u001b[0;34m,\u001b[0m\u001b[0;36m28\u001b[0m\u001b[0;34m,\u001b[0m\u001b[0;36m1\u001b[0m\u001b[0;34m)\u001b[0m\u001b[0;34m)\u001b[0m\u001b[0;34m\u001b[0m\u001b[0m\n\u001b[0;32m---> 11\u001b[0;31m             \u001b[0mcost\u001b[0m\u001b[0;34m,\u001b[0m\u001b[0mout\u001b[0m \u001b[0;34m=\u001b[0m \u001b[0msess\u001b[0m\u001b[0;34m.\u001b[0m\u001b[0mrun\u001b[0m\u001b[0;34m(\u001b[0m\u001b[0;34m[\u001b[0m\u001b[0mloss\u001b[0m\u001b[0;34m,\u001b[0m\u001b[0my_pred\u001b[0m\u001b[0;34m]\u001b[0m\u001b[0;34m,\u001b[0m \u001b[0mfeed_dict\u001b[0m\u001b[0;34m=\u001b[0m\u001b[0;34m{\u001b[0m\u001b[0minput_x\u001b[0m\u001b[0;34m:\u001b[0m\u001b[0mbatch\u001b[0m\u001b[0;34m}\u001b[0m\u001b[0;34m)\u001b[0m\u001b[0;34m\u001b[0m\u001b[0m\n\u001b[0m\u001b[1;32m     12\u001b[0m             \u001b[0moutput\u001b[0m\u001b[0;34m.\u001b[0m\u001b[0mappend\u001b[0m\u001b[0;34m(\u001b[0m\u001b[0mout\u001b[0m\u001b[0;34m)\u001b[0m\u001b[0;34m\u001b[0m\u001b[0m\n\u001b[1;32m     13\u001b[0m             \u001b[0mprint\u001b[0m\u001b[0;34m(\u001b[0m\u001b[0mmsg\u001b[0m\u001b[0;34m.\u001b[0m\u001b[0mformat\u001b[0m\u001b[0;34m(\u001b[0m\u001b[0mb\u001b[0m\u001b[0;34m,\u001b[0m\u001b[0mcost\u001b[0m\u001b[0;34m)\u001b[0m\u001b[0;34m)\u001b[0m\u001b[0;34m\u001b[0m\u001b[0m\n",
      "\u001b[0;31mNameError\u001b[0m: name 'input_x' is not defined"
     ]
    }
   ],
   "source": [
    "#Test Processing:\n",
    "output = []\n",
    "with tf.Session() as sess:\n",
    "    if os.path.exists('tmpnn/checkpoint'):        \n",
    "        saver.restore(sess, 'tmpnn/model.ckpt')\n",
    "        total_batch  = int(len(test_images)/batch_size)\n",
    "        msg = \"Test batch={:d}, lose={:.4f}\"\n",
    "        for b in tqdm(range(total_batch)):\n",
    "            batch = test_images[b*batch_size:(b+1)*batch_size]\n",
    "            imgs = batch.reshape((-1,28,28,1))\n",
    "            cost,out = sess.run([loss,y_pred], feed_dict={input_x:batch})\n",
    "            output.append(out)\n",
    "            print(msg.format(b,cost))\n",
    "\n",
    "    else :\n",
    "        print(\"Please run training part first\")\n",
    "    fig1 = plt.figure(figsize=(8,8))\n",
    "    fig1.subplots_adjust(left=0, right=1, bottom=0, top=1, hspace=0.5, wspace=0.05)\n",
    "    for i in range(30):\n",
    "        image = np.reshape(test_images[i],[28,28])\n",
    "        ax=fig1.add_subplot(6,5,i+1,xticks=[],yticks=[]) \n",
    "        ax.imshow(image,cmap=plt.cm.binary,interpolation='nearest') \n",
    "        ax.text(0,7,str(test_labels[i]))\n",
    "    plt.show()\n",
    "    print(\"---------------------------------------------------\")\n",
    "    fig = plt.figure(figsize=(8,8))\n",
    "    fig.subplots_adjust(left=0, right=1, bottom=0, top=1, hspace=0.5, wspace=0.05)\n",
    "    for i in range(30):\n",
    "        image = np.reshape(output[0][i],[28,28])\n",
    "        ax=fig.add_subplot(6,5,i+1,xticks=[],yticks=[]) \n",
    "        ax.imshow(image,cmap=plt.cm.binary,interpolation='nearest') \n",
    "        ax.text(0,7,str(test_labels[i]))\n",
    "    plt.show()"
   ]
  },
  {
   "cell_type": "code",
   "execution_count": null,
   "metadata": {},
   "outputs": [],
   "source": []
  }
 ],
 "metadata": {
  "kernelspec": {
   "display_name": "Python 3",
   "language": "python",
   "name": "python3"
  },
  "language_info": {
   "codemirror_mode": {
    "name": "ipython",
    "version": 3
   },
   "file_extension": ".py",
   "mimetype": "text/x-python",
   "name": "python",
   "nbconvert_exporter": "python",
   "pygments_lexer": "ipython3",
   "version": "3.5.2"
  }
 },
 "nbformat": 4,
 "nbformat_minor": 2
}
